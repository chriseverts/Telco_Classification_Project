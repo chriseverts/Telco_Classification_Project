{
 "cells": [
  {
   "cell_type": "code",
   "execution_count": null,
   "id": "63fed96b",
   "metadata": {},
   "outputs": [],
   "source": [
    "from pydataset import data\n",
    "import seaborn as sns\n",
    "import pandas as pd\n",
    "import numpy as np\n",
    "import os\n",
    "from env import host, username, password, get_db_url\n",
    "from sklearn.model_selection import train_test_split\n",
    "from sklearn.impute import SimpleImputer\n",
    "\n",
    "def impute_mean_age(train, validate, test):\n",
    "    '''\n",
    "    This function imputes the mean of the age column for\n",
    "    observations with missing values.\n",
    "    Returns transformed train, validate, and test df.\n",
    "    '''\n",
    "    # create the imputer object with mean strategy\n",
    "    imputer = SimpleImputer(strategy = 'mean')\n",
    "    \n",
    "    # fit on and transform age column in train\n",
    "    train['age'] = imputer.fit_transform(train[['age']])\n",
    "    \n",
    "    # transform age column in validate\n",
    "    validate['age'] = imputer.transform(validate[['age']])\n",
    "    \n",
    "    # transform age column in test\n",
    "    test['age'] = imputer.transform(test[['age']])\n",
    "    \n",
    "    return train, validate, test\n",
    "\n",
    "\n"
   ]
  }
 ],
 "metadata": {
  "kernelspec": {
   "display_name": "Python 3",
   "language": "python",
   "name": "python3"
  },
  "language_info": {
   "codemirror_mode": {
    "name": "ipython",
    "version": 3
   },
   "file_extension": ".py",
   "mimetype": "text/x-python",
   "name": "python",
   "nbconvert_exporter": "python",
   "pygments_lexer": "ipython3",
   "version": "3.8.8"
  }
 },
 "nbformat": 4,
 "nbformat_minor": 5
}
