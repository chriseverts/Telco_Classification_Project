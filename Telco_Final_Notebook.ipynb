{
 "cells": [
  {
   "cell_type": "markdown",
   "id": "be39dbab",
   "metadata": {},
   "source": [
    "# Telco Churn Classification Project\n",
    "\n",
    "## Project Overview\n",
    "\n",
    "Go through the pipeline and create models that will predict whether a customer wil churn or not\n",
    "\n",
    "## Project Goal\n",
    "\n",
    "The goal is to create a model that will perform better then the baseline model and optimize recall\n",
    "\n",
    "## Executive Summay\n",
    "\n",
    "The following features were found to be main forces of churn\n",
    "    \n",
    "    Month to month contract\n",
    "    \n",
    "    Fiber optic\n",
    "    \n",
    "    Electronic Check\n",
    "    \n",
    "    Tenure\n",
    "    \n",
    "I chose the decision tree due to the following\n",
    "    \n",
    "    Baseline: 73%\n",
    "    \n",
    "    Recall Rate: 93%\n",
    "    \n",
    "    Accuracy: 80%\n",
    "    "
   ]
  },
  {
   "cell_type": "markdown",
   "id": "dcce7b07",
   "metadata": {},
   "source": [
    "# Import"
   ]
  },
  {
   "cell_type": "code",
   "execution_count": 1,
   "id": "5d8bd7bd",
   "metadata": {},
   "outputs": [],
   "source": [
    "# Our essentials\n",
    "import pandas as pd\n",
    "import numpy as np\n",
    "from scipy import stats\n",
    "import matplotlib.pyplot as plt\n",
    "import seaborn as sns\n",
    "\n",
    "\n",
    "#Acquire functions\n",
    "from acquire import get_connection, new_telco_churn_data, get_telco_churn_data\n",
    "\n",
    "#Prepare functions\n",
    "from prepare import num_distributions, clean_telco_churn, telco_churn_split, prep_telco_churn\n",
    "\n",
    "#Explore functions\n",
    "from explore import get_obj_stats, countplot, get_churn_heatmap, get_metrics_binary\n",
    "\n",
    "#sklearn to help us with our machine learning\n",
    "from sklearn.model_selection import train_test_split\n",
    "from sklearn.metrics import accuracy_score\n",
    "import sklearn.metrics\n",
    "from sklearn.tree import DecisionTreeClassifier, plot_tree, export_text\n",
    "from sklearn.tree import export_graphviz\n",
    "from sklearn.neighbors import KNeighborsClassifier\n",
    "from sklearn.metrics import classification_report\n",
    "from sklearn.metrics import confusion_matrix\n",
    "from sklearn.ensemble import RandomForestClassifier\n",
    "from sklearn.linear_model import LogisticRegression"
   ]
  },
  {
   "cell_type": "markdown",
   "id": "7f3331e8",
   "metadata": {},
   "source": [
    "# Acquire "
   ]
  },
  {
   "cell_type": "code",
   "execution_count": 2,
   "id": "47a835a0",
   "metadata": {},
   "outputs": [],
   "source": [
    "#this acquire function will connect to codeup database, run a SQL query, & return telco_churn into a usable dataframe\n",
    "#it will also create a .csv file in our directory.\n",
    "df = get_telco_churn_data()"
   ]
  },
  {
   "cell_type": "code",
   "execution_count": 3,
   "id": "a0797ce3",
   "metadata": {
    "scrolled": false
   },
   "outputs": [
    {
     "data": {
      "text/html": [
       "<div>\n",
       "<style scoped>\n",
       "    .dataframe tbody tr th:only-of-type {\n",
       "        vertical-align: middle;\n",
       "    }\n",
       "\n",
       "    .dataframe tbody tr th {\n",
       "        vertical-align: top;\n",
       "    }\n",
       "\n",
       "    .dataframe thead th {\n",
       "        text-align: right;\n",
       "    }\n",
       "</style>\n",
       "<table border=\"1\" class=\"dataframe\">\n",
       "  <thead>\n",
       "    <tr style=\"text-align: right;\">\n",
       "      <th></th>\n",
       "      <th>payment_type_id</th>\n",
       "      <th>contract_type_id</th>\n",
       "      <th>internet_service_type_id</th>\n",
       "      <th>customer_id</th>\n",
       "      <th>gender</th>\n",
       "      <th>senior_citizen</th>\n",
       "      <th>partner</th>\n",
       "      <th>dependents</th>\n",
       "      <th>tenure</th>\n",
       "      <th>phone_service</th>\n",
       "      <th>...</th>\n",
       "      <th>tech_support</th>\n",
       "      <th>streaming_tv</th>\n",
       "      <th>streaming_movies</th>\n",
       "      <th>paperless_billing</th>\n",
       "      <th>monthly_charges</th>\n",
       "      <th>total_charges</th>\n",
       "      <th>churn</th>\n",
       "      <th>internet_service_type</th>\n",
       "      <th>contract_type</th>\n",
       "      <th>payment_type</th>\n",
       "    </tr>\n",
       "  </thead>\n",
       "  <tbody>\n",
       "    <tr>\n",
       "      <th>0</th>\n",
       "      <td>2</td>\n",
       "      <td>1</td>\n",
       "      <td>3</td>\n",
       "      <td>0030-FNXPP</td>\n",
       "      <td>Female</td>\n",
       "      <td>0</td>\n",
       "      <td>No</td>\n",
       "      <td>No</td>\n",
       "      <td>3</td>\n",
       "      <td>Yes</td>\n",
       "      <td>...</td>\n",
       "      <td>No internet service</td>\n",
       "      <td>No internet service</td>\n",
       "      <td>No internet service</td>\n",
       "      <td>No</td>\n",
       "      <td>19.85</td>\n",
       "      <td>57.2</td>\n",
       "      <td>No</td>\n",
       "      <td>None</td>\n",
       "      <td>Month-to-month</td>\n",
       "      <td>Mailed check</td>\n",
       "    </tr>\n",
       "    <tr>\n",
       "      <th>1</th>\n",
       "      <td>2</td>\n",
       "      <td>1</td>\n",
       "      <td>3</td>\n",
       "      <td>0031-PVLZI</td>\n",
       "      <td>Female</td>\n",
       "      <td>0</td>\n",
       "      <td>Yes</td>\n",
       "      <td>Yes</td>\n",
       "      <td>4</td>\n",
       "      <td>Yes</td>\n",
       "      <td>...</td>\n",
       "      <td>No internet service</td>\n",
       "      <td>No internet service</td>\n",
       "      <td>No internet service</td>\n",
       "      <td>No</td>\n",
       "      <td>20.35</td>\n",
       "      <td>76.35</td>\n",
       "      <td>Yes</td>\n",
       "      <td>None</td>\n",
       "      <td>Month-to-month</td>\n",
       "      <td>Mailed check</td>\n",
       "    </tr>\n",
       "    <tr>\n",
       "      <th>2</th>\n",
       "      <td>1</td>\n",
       "      <td>1</td>\n",
       "      <td>3</td>\n",
       "      <td>0098-BOWSO</td>\n",
       "      <td>Male</td>\n",
       "      <td>0</td>\n",
       "      <td>No</td>\n",
       "      <td>No</td>\n",
       "      <td>27</td>\n",
       "      <td>Yes</td>\n",
       "      <td>...</td>\n",
       "      <td>No internet service</td>\n",
       "      <td>No internet service</td>\n",
       "      <td>No internet service</td>\n",
       "      <td>Yes</td>\n",
       "      <td>19.40</td>\n",
       "      <td>529.8</td>\n",
       "      <td>No</td>\n",
       "      <td>None</td>\n",
       "      <td>Month-to-month</td>\n",
       "      <td>Electronic check</td>\n",
       "    </tr>\n",
       "    <tr>\n",
       "      <th>3</th>\n",
       "      <td>1</td>\n",
       "      <td>1</td>\n",
       "      <td>3</td>\n",
       "      <td>0107-WESLM</td>\n",
       "      <td>Male</td>\n",
       "      <td>0</td>\n",
       "      <td>No</td>\n",
       "      <td>No</td>\n",
       "      <td>1</td>\n",
       "      <td>Yes</td>\n",
       "      <td>...</td>\n",
       "      <td>No internet service</td>\n",
       "      <td>No internet service</td>\n",
       "      <td>No internet service</td>\n",
       "      <td>Yes</td>\n",
       "      <td>19.85</td>\n",
       "      <td>19.85</td>\n",
       "      <td>Yes</td>\n",
       "      <td>None</td>\n",
       "      <td>Month-to-month</td>\n",
       "      <td>Electronic check</td>\n",
       "    </tr>\n",
       "    <tr>\n",
       "      <th>4</th>\n",
       "      <td>3</td>\n",
       "      <td>1</td>\n",
       "      <td>3</td>\n",
       "      <td>0114-RSRRW</td>\n",
       "      <td>Female</td>\n",
       "      <td>0</td>\n",
       "      <td>Yes</td>\n",
       "      <td>No</td>\n",
       "      <td>10</td>\n",
       "      <td>Yes</td>\n",
       "      <td>...</td>\n",
       "      <td>No internet service</td>\n",
       "      <td>No internet service</td>\n",
       "      <td>No internet service</td>\n",
       "      <td>Yes</td>\n",
       "      <td>19.95</td>\n",
       "      <td>187.75</td>\n",
       "      <td>No</td>\n",
       "      <td>None</td>\n",
       "      <td>Month-to-month</td>\n",
       "      <td>Bank transfer (automatic)</td>\n",
       "    </tr>\n",
       "  </tbody>\n",
       "</table>\n",
       "<p>5 rows × 24 columns</p>\n",
       "</div>"
      ],
      "text/plain": [
       "   payment_type_id  contract_type_id  internet_service_type_id customer_id  \\\n",
       "0                2                 1                         3  0030-FNXPP   \n",
       "1                2                 1                         3  0031-PVLZI   \n",
       "2                1                 1                         3  0098-BOWSO   \n",
       "3                1                 1                         3  0107-WESLM   \n",
       "4                3                 1                         3  0114-RSRRW   \n",
       "\n",
       "   gender  senior_citizen partner dependents  tenure phone_service  ...  \\\n",
       "0  Female               0      No         No       3           Yes  ...   \n",
       "1  Female               0     Yes        Yes       4           Yes  ...   \n",
       "2    Male               0      No         No      27           Yes  ...   \n",
       "3    Male               0      No         No       1           Yes  ...   \n",
       "4  Female               0     Yes         No      10           Yes  ...   \n",
       "\n",
       "          tech_support         streaming_tv     streaming_movies  \\\n",
       "0  No internet service  No internet service  No internet service   \n",
       "1  No internet service  No internet service  No internet service   \n",
       "2  No internet service  No internet service  No internet service   \n",
       "3  No internet service  No internet service  No internet service   \n",
       "4  No internet service  No internet service  No internet service   \n",
       "\n",
       "  paperless_billing monthly_charges total_charges churn internet_service_type  \\\n",
       "0                No           19.85          57.2    No                  None   \n",
       "1                No           20.35         76.35   Yes                  None   \n",
       "2               Yes           19.40         529.8    No                  None   \n",
       "3               Yes           19.85         19.85   Yes                  None   \n",
       "4               Yes           19.95        187.75    No                  None   \n",
       "\n",
       "    contract_type               payment_type  \n",
       "0  Month-to-month               Mailed check  \n",
       "1  Month-to-month               Mailed check  \n",
       "2  Month-to-month           Electronic check  \n",
       "3  Month-to-month           Electronic check  \n",
       "4  Month-to-month  Bank transfer (automatic)  \n",
       "\n",
       "[5 rows x 24 columns]"
      ]
     },
     "execution_count": 3,
     "metadata": {},
     "output_type": "execute_result"
    }
   ],
   "source": [
    "#seeing that it does look like how we would see it in SQL\n",
    "df.head()"
   ]
  },
  {
   "cell_type": "code",
   "execution_count": 4,
   "id": "8bf58fc1",
   "metadata": {},
   "outputs": [
    {
     "name": "stdout",
     "output_type": "stream",
     "text": [
      "<class 'pandas.core.frame.DataFrame'>\n",
      "Int64Index: 7043 entries, 0 to 7042\n",
      "Data columns (total 24 columns):\n",
      " #   Column                    Non-Null Count  Dtype  \n",
      "---  ------                    --------------  -----  \n",
      " 0   payment_type_id           7043 non-null   int64  \n",
      " 1   contract_type_id          7043 non-null   int64  \n",
      " 2   internet_service_type_id  7043 non-null   int64  \n",
      " 3   customer_id               7043 non-null   object \n",
      " 4   gender                    7043 non-null   object \n",
      " 5   senior_citizen            7043 non-null   int64  \n",
      " 6   partner                   7043 non-null   object \n",
      " 7   dependents                7043 non-null   object \n",
      " 8   tenure                    7043 non-null   int64  \n",
      " 9   phone_service             7043 non-null   object \n",
      " 10  multiple_lines            7043 non-null   object \n",
      " 11  online_security           7043 non-null   object \n",
      " 12  online_backup             7043 non-null   object \n",
      " 13  device_protection         7043 non-null   object \n",
      " 14  tech_support              7043 non-null   object \n",
      " 15  streaming_tv              7043 non-null   object \n",
      " 16  streaming_movies          7043 non-null   object \n",
      " 17  paperless_billing         7043 non-null   object \n",
      " 18  monthly_charges           7043 non-null   float64\n",
      " 19  total_charges             7043 non-null   object \n",
      " 20  churn                     7043 non-null   object \n",
      " 21  internet_service_type     7043 non-null   object \n",
      " 22  contract_type             7043 non-null   object \n",
      " 23  payment_type              7043 non-null   object \n",
      "dtypes: float64(1), int64(5), object(18)\n",
      "memory usage: 1.3+ MB\n"
     ]
    }
   ],
   "source": [
    "# check the datatypes\n",
    "df.info()\n",
    "\n",
    "# total charges had missing values, those values were filled with the mean\n",
    "# dummies were created and redundant columns were dropped\n",
    "# There are a variety of Dtypes that need to be converted"
   ]
  },
  {
   "cell_type": "markdown",
   "id": "67e9a1b3",
   "metadata": {},
   "source": [
    "# Prepping the data"
   ]
  },
  {
   "cell_type": "code",
   "execution_count": 5,
   "id": "8de18eb3",
   "metadata": {},
   "outputs": [],
   "source": [
    "#clean_telco_churn function will create dummies, convert data to correct types, resolve nulls, and drop redundant columns\n",
    "df = clean_telco_churn(df)"
   ]
  },
  {
   "cell_type": "code",
   "execution_count": 6,
   "id": "a2ea1426",
   "metadata": {},
   "outputs": [],
   "source": [
    "#prep function will split this clean data into train, validate, and test sets.\n",
    "train, validate, test = prep_telco_churn(df)"
   ]
  },
  {
   "cell_type": "code",
   "execution_count": 7,
   "id": "c35b50dd",
   "metadata": {},
   "outputs": [
    {
     "data": {
      "text/plain": [
       "((3943, 28), (1691, 28), (1409, 28))"
      ]
     },
     "execution_count": 7,
     "metadata": {},
     "output_type": "execute_result"
    }
   ],
   "source": [
    "#making sure they have the same amount of columns, while decreasing rows.\n",
    "train.shape, validate.shape, test.shape"
   ]
  },
  {
   "cell_type": "code",
   "execution_count": 8,
   "id": "2fb57c3f",
   "metadata": {},
   "outputs": [],
   "source": [
    "# data is prepped and ready for exploration"
   ]
  },
  {
   "cell_type": "markdown",
   "id": "fd3ad273",
   "metadata": {},
   "source": [
    "# Exploration"
   ]
  },
  {
   "cell_type": "code",
   "execution_count": 9,
   "id": "f68878ab",
   "metadata": {},
   "outputs": [
    {
     "data": {
      "text/plain": [
       "<AxesSubplot:title={'center':'Features Correlated with Churn'}>"
      ]
     },
     "execution_count": 9,
     "metadata": {},
     "output_type": "execute_result"
    },
    {
     "data": {
      "image/png": "[encoded data removed]",
      "text/plain": [
       "<Figure size 576x864 with 2 Axes>"
      ]
     },
     "metadata": {
      "needs_background": "light"
     },
     "output_type": "display_data"
    }
   ],
   "source": [
    "#Heatmaps will show us how much each feature is related to churn.\n",
    "# -1 being strongest, negatively correlated\n",
    "# +1 being strongest, positively correlated\n",
    "get_churn_heatmap(df)\n"
   ]
  },
  {
   "cell_type": "markdown",
   "id": "13c1f0f8",
   "metadata": {},
   "source": [
    "# Observations from heatmap\n",
    "\n",
    "   ## The top of the heat map reveal the most correlated to churn\n",
    "       1.  monthly customers : .41\n",
    "       2.  fiber optic: .31\n",
    "       3.  electronic check: .30\n",
    "       4.  monthly charges: .19\n",
    "        \n",
    "        \n",
    "   ## Bottom of heatmap reveal negative correlation\n",
    "       1.  tenure: .35\n",
    "       2.  two_year: .30\n",
    "       "
   ]
  },
  {
   "cell_type": "code",
   "execution_count": 57,
   "id": "6a379476",
   "metadata": {
    "scrolled": false
   },
   "outputs": [
    {
     "data": {
      "image/png": "[encoded data removed]",
      "text/plain": [
       "<Figure size 1080x2880 with 16 Axes>"
      ]
     },
     "metadata": {
      "needs_background": "light"
     },
     "output_type": "display_data"
    }
   ],
   "source": [
    "import matplotlib.ticker as mtick\n",
    "\n",
    "#draw bar plot\n",
    "cate_cols = ['monthly','senior_citizen','partner', 'dependents', 'phone_service', 'multiple_lines', 'online_security', 'online_backup', 'device_protection', 'tech_support', 'streaming_tv', 'streaming_movies', 'fiber_optic','one_year','two_year','dsl','no_internet']\n",
    "colors = [\"Salmon\", \"#5F9EA0\"]\n",
    "\n",
    "fig, axes = plt.subplots(nrows = 8,ncols = 2,figsize = (15,40))\n",
    "\n",
    "for i,feature in enumerate(cate_cols):\n",
    "    if i < 8:\n",
    "        ax = df.groupby([feature,'churn']).size().groupby(level=0).apply( lambda x: 100 * x / x.sum()).unstack().plot(kind='bar', color=colors, ax=axes[i,0])\n",
    "    elif i >=8 and i < 16:\n",
    "        ax = df.groupby([feature,'churn']).size().groupby(level=0).apply( lambda x: 100 * x / x.sum()).unstack().plot(kind='bar', color=colors, ax=axes[i-8,1])\n",
    "    \n",
    "    ax.set_title(\"Distribution of {} and % Churn\".format(feature), fontsize = 20)\n",
    "    ax.set_ylabel(\"Percentage\", fontsize=15)\n",
    "    ax.set_xlabel(\"{}\".format(feature), fontsize=15)\n",
    "    ax.legend([\"No\", \"Yes\"], fontsize=12)\n",
    "    \n",
    "    for patch in ax.patches:\n",
    "        width, height = patch.get_width(), patch.get_height()\n",
    "        ax.annotate('{:.0f}%'.format(height), (patch.get_x()+0.1*width, patch.get_y()+0.5*height),\n",
    "                    color = 'Black',\n",
    "                    weight = 'bold',\n",
    "                    size = 15)\n",
    "\n",
    "    ax.yaxis.set_major_formatter(mtick.PercentFormatter())\n",
    "    plt.setp(ax.get_xticklabels(), rotation=10, fontsize=12)\n",
    "\n",
    "plt.tight_layout()\n",
    "plt.show()\n",
    "\n"
   ]
  },
  {
   "cell_type": "markdown",
   "id": "8ca86c86",
   "metadata": {},
   "source": [
    "## Takeaway\n",
    "\n",
    "    - Another visual besides the correlation heatmap to get a better understanding of churn percentage\n",
    "    \n",
    "    - I will be focusing on the following factors for churn\n",
    "        \n",
    "                1. Month to month contracts\n",
    "                \n",
    "                2. Fiber optic internet\n",
    "                \n",
    "                3. Electronic checks"
   ]
  },
  {
   "cell_type": "code",
   "execution_count": 11,
   "id": "1fed3b47",
   "metadata": {},
   "outputs": [
    {
     "data": {
      "image/png": "[encoded data removed]",
      "text/plain": [
       "<Figure size 432x288 with 1 Axes>"
      ]
     },
     "metadata": {
      "needs_background": "light"
     },
     "output_type": "display_data"
    },
    {
     "data": {
      "image/png": "[encoded data removed]",
      "text/plain": [
       "<Figure size 402.375x360 with 1 Axes>"
      ]
     },
     "metadata": {
      "needs_background": "light"
     },
     "output_type": "display_data"
    }
   ],
   "source": [
    "plt.subplots()\n",
    "sns.kdeplot(data=df, hue='monthly' , x = 'churn') \n",
    "plt.title('Monthly Contracts and Churn')\n",
    "plt.show()\n",
    "\n",
    "\n",
    "sns.displot(train, x='monthly', hue = 'churn', multiple= 'stack', kde = True)\n",
    "plt.title('Monthly Contracts and Churn')\n",
    "plt.show()\n",
    "\n"
   ]
  },
  {
   "cell_type": "markdown",
   "id": "329ec3d7",
   "metadata": {},
   "source": [
    "Of those that churn, monthly contracts were those who churned the most"
   ]
  },
  {
   "cell_type": "code",
   "execution_count": 12,
   "id": "08268d51",
   "metadata": {},
   "outputs": [
    {
     "name": "stderr",
     "output_type": "stream",
     "text": [
      "<ipython-input-12-43a931458d68>:8: UserWarning: FixedFormatter should only be used together with FixedLocator\n",
      "  ax.set_yticklabels(['{:,.0%}'.format(y) for y in ax.get_yticks()])\n",
      "<ipython-input-12-43a931458d68>:11: UserWarning: FixedFormatter should only be used together with FixedLocator\n",
      "  ax.set_xticklabels(['{:,.0%}'.format(x) for x in ax.get_xticks()])\n"
     ]
    },
    {
     "data": {
      "text/plain": [
       "Text(0.5, 1.0, 'Fiber Optic and Churn')"
      ]
     },
     "execution_count": 12,
     "metadata": {},
     "output_type": "execute_result"
    },
    {
     "data": {
      "image/png": "[encoded data removed]",
      "text/plain": [
       "<Figure size 432x288 with 1 Axes>"
      ]
     },
     "metadata": {
      "needs_background": "light"
     },
     "output_type": "display_data"
    },
    {
     "data": {
      "image/png": "[encoded data removed]",
      "text/plain": [
       "<Figure size 648x324 with 1 Axes>"
      ]
     },
     "metadata": {
      "needs_background": "light"
     },
     "output_type": "display_data"
    }
   ],
   "source": [
    "def barplot_percentages(feature, orient='v', axis_name=\"percentage of customers\"):\n",
    "    ratios = pd.DataFrame()\n",
    "    g = df.groupby(feature)[\"churn\"].value_counts().to_frame()\n",
    "    g = g.rename({\"churn\": axis_name}, axis=1).reset_index()\n",
    "    g[axis_name] = g[axis_name]/len(df)\n",
    "    if orient == 'v':\n",
    "        ax = sns.barplot(x=feature, y= axis_name, hue='fiber_optic', data=g, orient=orient)\n",
    "        ax.set_yticklabels(['{:,.0%}'.format(y) for y in ax.get_yticks()])\n",
    "    else:\n",
    "        ax = sns.barplot(x= axis_name, y=feature, hue='fiber_optic', data=g, orient=orient)\n",
    "        ax.set_xticklabels(['{:,.0%}'.format(x) for x in ax.get_xticks()])\n",
    "    ax.plot()\n",
    "barplot_percentages(\"fiber_optic\")\n",
    "\n",
    "plt.figure(figsize=(9, 4.5))\n",
    "barplot_percentages(\"fiber_optic\", orient='h')\n",
    "plt.title('Fiber Optic and Churn')"
   ]
  },
  {
   "cell_type": "markdown",
   "id": "d07791f8",
   "metadata": {},
   "source": [
    "Those with fiber optic vs dsl or no internet have a higher percentage of churn. "
   ]
  },
  {
   "cell_type": "code",
   "execution_count": 13,
   "id": "5d142875",
   "metadata": {},
   "outputs": [
    {
     "data": {
      "image/png": "[encoded data removed]",
      "text/plain": [
       "<Figure size 432x288 with 1 Axes>"
      ]
     },
     "metadata": {
      "needs_background": "light"
     },
     "output_type": "display_data"
    },
    {
     "data": {
      "image/png": "[encoded data removed]",
      "text/plain": [
       "<Figure size 402.375x360 with 1 Axes>"
      ]
     },
     "metadata": {
      "needs_background": "light"
     },
     "output_type": "display_data"
    }
   ],
   "source": [
    "plt.subplots()\n",
    "sns.kdeplot(data=df, hue='electronic_check' , x = 'churn') \n",
    "plt.title('Electronic checks and Churn')\n",
    "plt.show()\n",
    "\n",
    "\n",
    "sns.displot(train, x='electronic_check', hue = 'churn', multiple= 'stack')\n",
    "plt.title('Electronic checks and Churn and Churn')\n",
    "plt.show()"
   ]
  },
  {
   "cell_type": "markdown",
   "id": "e9d2177f",
   "metadata": {},
   "source": [
    "Electronic check users make up half of the churn of all payment types"
   ]
  },
  {
   "cell_type": "markdown",
   "id": "38287106",
   "metadata": {},
   "source": [
    "# Statistics"
   ]
  },
  {
   "cell_type": "markdown",
   "id": "9958ba75",
   "metadata": {},
   "source": [
    "## Hypothesis 1\n",
    "    \n",
    "    Ho: Monthly contracts are indpendent of churn\n",
    "\n",
    "    Ha: Monthly contracts are not dependent of churn"
   ]
  },
  {
   "cell_type": "code",
   "execution_count": 14,
   "id": "8b1c6e09",
   "metadata": {},
   "outputs": [
    {
     "data": {
      "text/html": [
       "<div>\n",
       "<style scoped>\n",
       "    .dataframe tbody tr th:only-of-type {\n",
       "        vertical-align: middle;\n",
       "    }\n",
       "\n",
       "    .dataframe tbody tr th {\n",
       "        vertical-align: top;\n",
       "    }\n",
       "\n",
       "    .dataframe thead th {\n",
       "        text-align: right;\n",
       "    }\n",
       "</style>\n",
       "<table border=\"1\" class=\"dataframe\">\n",
       "  <thead>\n",
       "    <tr style=\"text-align: right;\">\n",
       "      <th>churn</th>\n",
       "      <th>0</th>\n",
       "      <th>1</th>\n",
       "      <th>All</th>\n",
       "    </tr>\n",
       "    <tr>\n",
       "      <th>monthly</th>\n",
       "      <th></th>\n",
       "      <th></th>\n",
       "      <th></th>\n",
       "    </tr>\n",
       "  </thead>\n",
       "  <tbody>\n",
       "    <tr>\n",
       "      <th>0</th>\n",
       "      <td>1628</td>\n",
       "      <td>127</td>\n",
       "      <td>1755</td>\n",
       "    </tr>\n",
       "    <tr>\n",
       "      <th>1</th>\n",
       "      <td>1269</td>\n",
       "      <td>919</td>\n",
       "      <td>2188</td>\n",
       "    </tr>\n",
       "    <tr>\n",
       "      <th>All</th>\n",
       "      <td>2897</td>\n",
       "      <td>1046</td>\n",
       "      <td>3943</td>\n",
       "    </tr>\n",
       "  </tbody>\n",
       "</table>\n",
       "</div>"
      ],
      "text/plain": [
       "churn       0     1   All\n",
       "monthly                  \n",
       "0        1628   127  1755\n",
       "1        1269   919  2188\n",
       "All      2897  1046  3943"
      ]
     },
     "execution_count": 14,
     "metadata": {},
     "output_type": "execute_result"
    }
   ],
   "source": [
    "#We are going to use a chi square test, because it compares two categorical variables.\n",
    "\n",
    "\n",
    "null_hypothesis =  \"Monthly contracts and churn are independent of each other.\"\n",
    "alternative_hypothesis =  \"Monthly contracts and churn are not independent of each other.\"\n",
    "a = 0.05 #a for alpha \n",
    "\n",
    "observed = pd.crosstab(train.monthly, train.churn, margins = True)\n",
    "observed"
   ]
  },
  {
   "cell_type": "code",
   "execution_count": 15,
   "id": "7b8a451d",
   "metadata": {},
   "outputs": [
    {
     "name": "stdout",
     "output_type": "stream",
     "text": [
      "Observed\n",
      "\n",
      "[[1628  127 1755]\n",
      " [1269  919 2188]\n",
      " [2897 1046 3943]]\n",
      "---\n",
      "Expected\n",
      "\n",
      "[[1289.43317271  465.56682729 1755.        ]\n",
      " [1607.56682729  580.43317271 2188.        ]\n",
      " [2897.         1046.         3943.        ]]\n",
      "---\n",
      "\n",
      "chi^2 = 603.8993\n",
      "p     = 0.0000\n"
     ]
    }
   ],
   "source": [
    "chi2, p, degf, expected = stats.chi2_contingency(observed)\n",
    "print('Observed\\n')\n",
    "print(observed.values)\n",
    "print('---\\nExpected\\n')\n",
    "print(expected)\n",
    "print('---\\n')\n",
    "print(f'chi^2 = {chi2:.4f}')\n",
    "print(f'p     = {p:.4f}')"
   ]
  },
  {
   "cell_type": "code",
   "execution_count": 16,
   "id": "17c7a7d1",
   "metadata": {},
   "outputs": [
    {
     "name": "stdout",
     "output_type": "stream",
     "text": [
      "Reject null hypothesis that: Monthly contracts and churn are independent of each other.\n",
      "There is evidence to suggest: Monthly contracts and churn are not independent of each other.\n"
     ]
    }
   ],
   "source": [
    "if p < a:\n",
    "    print(f'Reject null hypothesis that: {null_hypothesis}')\n",
    "    print (f'There is evidence to suggest: {alternative_hypothesis}')\n",
    "else:\n",
    "    print(f'Fail to reject null hypothesis that: {null_hypothesis} There is not sufficient evidence to reject it.')"
   ]
  },
  {
   "cell_type": "markdown",
   "id": "7692ce2e",
   "metadata": {},
   "source": [
    "### Takeaway\n",
    "\n",
    "    Possibly sensitive to the price for first couple months or terrible customer service\n",
    "    \n",
    "    We observed 919 month to month customer churned when we expected 580 people churned\n",
    "    \n",
    "    "
   ]
  },
  {
   "cell_type": "markdown",
   "id": "d1d6717e",
   "metadata": {},
   "source": [
    "## Hypothesis 2\n",
    "\n",
    "    Ho: People who have fiber optic are independent of churn\n",
    "\n",
    "    Ha: People who have fiber optic are dependent on churn"
   ]
  },
  {
   "cell_type": "code",
   "execution_count": 17,
   "id": "64063bfc",
   "metadata": {},
   "outputs": [
    {
     "data": {
      "text/html": [
       "<div>\n",
       "<style scoped>\n",
       "    .dataframe tbody tr th:only-of-type {\n",
       "        vertical-align: middle;\n",
       "    }\n",
       "\n",
       "    .dataframe tbody tr th {\n",
       "        vertical-align: top;\n",
       "    }\n",
       "\n",
       "    .dataframe thead th {\n",
       "        text-align: right;\n",
       "    }\n",
       "</style>\n",
       "<table border=\"1\" class=\"dataframe\">\n",
       "  <thead>\n",
       "    <tr style=\"text-align: right;\">\n",
       "      <th>churn</th>\n",
       "      <th>0</th>\n",
       "      <th>1</th>\n",
       "      <th>All</th>\n",
       "    </tr>\n",
       "    <tr>\n",
       "      <th>fiber_optic</th>\n",
       "      <th></th>\n",
       "      <th></th>\n",
       "      <th></th>\n",
       "    </tr>\n",
       "  </thead>\n",
       "  <tbody>\n",
       "    <tr>\n",
       "      <th>0</th>\n",
       "      <td>1858</td>\n",
       "      <td>304</td>\n",
       "      <td>2162</td>\n",
       "    </tr>\n",
       "    <tr>\n",
       "      <th>1</th>\n",
       "      <td>1039</td>\n",
       "      <td>742</td>\n",
       "      <td>1781</td>\n",
       "    </tr>\n",
       "    <tr>\n",
       "      <th>All</th>\n",
       "      <td>2897</td>\n",
       "      <td>1046</td>\n",
       "      <td>3943</td>\n",
       "    </tr>\n",
       "  </tbody>\n",
       "</table>\n",
       "</div>"
      ],
      "text/plain": [
       "churn           0     1   All\n",
       "fiber_optic                  \n",
       "0            1858   304  2162\n",
       "1            1039   742  1781\n",
       "All          2897  1046  3943"
      ]
     },
     "execution_count": 17,
     "metadata": {},
     "output_type": "execute_result"
    }
   ],
   "source": [
    "null_hypothesis = \"fiber optic customers are independent of churn.\"\n",
    "alternative_hypothesis = \"fiber optic customers are dependent of churn.\"\n",
    "a = 0.05 #a for alpha \n",
    "\n",
    "observed = pd.crosstab(train.fiber_optic, train.churn, margins = True)\n",
    "observed"
   ]
  },
  {
   "cell_type": "code",
   "execution_count": 18,
   "id": "27654686",
   "metadata": {},
   "outputs": [
    {
     "data": {
      "text/plain": [
       "2.5087626354447297e-81"
      ]
     },
     "execution_count": 18,
     "metadata": {},
     "output_type": "execute_result"
    }
   ],
   "source": [
    "chi2, p, degf, expected = stats.chi2_contingency(observed)\n",
    "p"
   ]
  },
  {
   "cell_type": "code",
   "execution_count": 19,
   "id": "8ce3d54d",
   "metadata": {},
   "outputs": [
    {
     "name": "stdout",
     "output_type": "stream",
     "text": [
      "Observed\n",
      "\n",
      "[[1858  304 2162]\n",
      " [1039  742 1781]\n",
      " [2897 1046 3943]]\n",
      "---\n",
      "Expected\n",
      "\n",
      "[[1588.46411362  573.53588638 2162.        ]\n",
      " [1308.53588638  472.46411362 1781.        ]\n",
      " [2897.         1046.         3943.        ]]\n",
      "---\n",
      "\n",
      "chi^2 = 381.6926\n",
      "p     = 0.0000\n"
     ]
    }
   ],
   "source": [
    "chi2, p, degf, expected = stats.chi2_contingency(observed)\n",
    "print('Observed\\n')\n",
    "print(observed.values)\n",
    "print('---\\nExpected\\n')\n",
    "print(expected)\n",
    "print('---\\n')\n",
    "print(f'chi^2 = {chi2:.4f}')\n",
    "print(f'p     = {p:.4f}')"
   ]
  },
  {
   "cell_type": "code",
   "execution_count": 20,
   "id": "ae577de0",
   "metadata": {},
   "outputs": [
    {
     "name": "stdout",
     "output_type": "stream",
     "text": [
      "Reject null hypothesis that: fiber optic customers are independent of churn.\n",
      "There is evidence to suggest: fiber optic customers are dependent of churn.\n"
     ]
    }
   ],
   "source": [
    "if p < a:\n",
    "    print(f'Reject null hypothesis that: {null_hypothesis}')\n",
    "    print (f'There is evidence to suggest: {alternative_hypothesis}')\n",
    "else:\n",
    "    print(f'Fail to reject null hypothesis that: {null_hypothesis} There is not sufficient evidence to reject it.')"
   ]
  },
  {
   "cell_type": "markdown",
   "id": "78db338a",
   "metadata": {},
   "source": [
    "### Takeaway \n",
    "\n",
    "    Fiber optic more then likely of all the internet types to churn\n",
    "    \n",
    "    We expected 472 people to churn however we observed 742.\n",
    "    \n",
    "    Maybe they found speeds to be slower then usual or prices at competitiors were cheaper"
   ]
  },
  {
   "cell_type": "markdown",
   "id": "30312a06",
   "metadata": {},
   "source": [
    "## Hypothesis 3\n",
    "    \n",
    "    Ho: People who pay with electronic check are inpendent of churn\n",
    "\n",
    "    Ha: People who pay with electronic check are dependent on churn"
   ]
  },
  {
   "cell_type": "code",
   "execution_count": 21,
   "id": "ebd2f18d",
   "metadata": {},
   "outputs": [
    {
     "data": {
      "text/html": [
       "<div>\n",
       "<style scoped>\n",
       "    .dataframe tbody tr th:only-of-type {\n",
       "        vertical-align: middle;\n",
       "    }\n",
       "\n",
       "    .dataframe tbody tr th {\n",
       "        vertical-align: top;\n",
       "    }\n",
       "\n",
       "    .dataframe thead th {\n",
       "        text-align: right;\n",
       "    }\n",
       "</style>\n",
       "<table border=\"1\" class=\"dataframe\">\n",
       "  <thead>\n",
       "    <tr style=\"text-align: right;\">\n",
       "      <th>churn</th>\n",
       "      <th>0</th>\n",
       "      <th>1</th>\n",
       "      <th>All</th>\n",
       "    </tr>\n",
       "    <tr>\n",
       "      <th>electronic_check</th>\n",
       "      <th></th>\n",
       "      <th></th>\n",
       "      <th></th>\n",
       "    </tr>\n",
       "  </thead>\n",
       "  <tbody>\n",
       "    <tr>\n",
       "      <th>0</th>\n",
       "      <td>2173</td>\n",
       "      <td>434</td>\n",
       "      <td>2607</td>\n",
       "    </tr>\n",
       "    <tr>\n",
       "      <th>1</th>\n",
       "      <td>724</td>\n",
       "      <td>612</td>\n",
       "      <td>1336</td>\n",
       "    </tr>\n",
       "    <tr>\n",
       "      <th>All</th>\n",
       "      <td>2897</td>\n",
       "      <td>1046</td>\n",
       "      <td>3943</td>\n",
       "    </tr>\n",
       "  </tbody>\n",
       "</table>\n",
       "</div>"
      ],
      "text/plain": [
       "churn                0     1   All\n",
       "electronic_check                  \n",
       "0                 2173   434  2607\n",
       "1                  724   612  1336\n",
       "All               2897  1046  3943"
      ]
     },
     "execution_count": 21,
     "metadata": {},
     "output_type": "execute_result"
    }
   ],
   "source": [
    "null_hypothesis = \"People who pay with electronic check are independent of churn.\"\n",
    "alternative_hypothesis = \"People who pay with electronic check are dependent on churn.\"\n",
    "a = 0.05 #a for alpha \n",
    "\n",
    "observed = pd.crosstab(train.electronic_check, train.churn, margins = True)\n",
    "observed"
   ]
  },
  {
   "cell_type": "code",
   "execution_count": 22,
   "id": "4524fe8f",
   "metadata": {},
   "outputs": [
    {
     "name": "stdout",
     "output_type": "stream",
     "text": [
      "Observed\n",
      "\n",
      "[[2173  434 2607]\n",
      " [ 724  612 1336]\n",
      " [2897 1046 3943]]\n",
      "---\n",
      "Expected\n",
      "\n",
      "[[1915  691 2607]\n",
      " [ 981  354 1336]\n",
      " [2897 1046 3943]]\n",
      "---\n",
      "\n",
      "chi^2 = 385.3859\n",
      "p     = 0.0000\n"
     ]
    }
   ],
   "source": [
    "chi2, p, degf, expected = stats.chi2_contingency(observed)\n",
    "print('Observed\\n')\n",
    "print(observed.values)\n",
    "print('---\\nExpected\\n')\n",
    "print(expected.astype(int))\n",
    "print('---\\n')\n",
    "print(f'chi^2 = {chi2:.4f}')\n",
    "print(f'p     = {p:.4f}')"
   ]
  },
  {
   "cell_type": "code",
   "execution_count": 23,
   "id": "2aebcf95",
   "metadata": {},
   "outputs": [
    {
     "name": "stdout",
     "output_type": "stream",
     "text": [
      "Reject null hypothesis that: People who pay with electronic check are independent of churn.\n",
      "There is evidence to suggest: People who pay with electronic check are dependent on churn.\n"
     ]
    }
   ],
   "source": [
    "if p < a:\n",
    "    print(f'Reject null hypothesis that: {null_hypothesis}')\n",
    "    print (f'There is evidence to suggest: {alternative_hypothesis}')\n",
    "else:\n",
    "    print(f'Fail to reject null hypothesis that: {null_hypothesis} There is not sufficient evidence to reject it.')"
   ]
  },
  {
   "cell_type": "markdown",
   "id": "58b69bd0",
   "metadata": {},
   "source": [
    "### Takeaway\n",
    "\n",
    "    People that paid with the electronic check were more likely to churn\n",
    "    \n",
    "    We expected 354 to churn however we observed 612\n",
    "    \n",
    "    Possible issues with paying through a website or a fee was charged for processing"
   ]
  },
  {
   "cell_type": "markdown",
   "id": "b7ceeef6",
   "metadata": {},
   "source": [
    "# Modeling"
   ]
  },
  {
   "cell_type": "markdown",
   "id": "a776c667",
   "metadata": {},
   "source": [
    "### Steps before modeling\n",
    "    \n",
    "    1.Our priority measure will be recall\n",
    "        \n",
    "        a.Our focus is on rataining customers instead of those who have already decided to leave\n",
    "        \n",
    "    2. Deciding a model: choose the one with the best recall and least overfit"
   ]
  },
  {
   "cell_type": "code",
   "execution_count": 24,
   "id": "66813659",
   "metadata": {},
   "outputs": [],
   "source": [
    "def get_metrics_binary(clf):\n",
    "    '''\n",
    "    get_metrics_binary takes in a confusion matrix (cnf) for a binary classifier and prints out metrics based on\n",
    "    values in variables named X_train, y_train, and y_pred.\n",
    "    \n",
    "    return: a classification report as a transposed DataFrame\n",
    "    '''\n",
    "    accuracy = clf.score(X_train, y_train)\n",
    "    class_report = pd.DataFrame(classification_report(y_train, y_pred, output_dict=True)).T\n",
    "    conf = confusion_matrix(y_train, y_pred)\n",
    "    tpr = conf[1][1] / conf[1].sum()\n",
    "    fpr = conf[0][1] / conf[0].sum()\n",
    "    tnr = conf[0][0] / conf[0].sum()\n",
    "    fnr = conf[1][0] / conf[1].sum()\n",
    "    print(f'''\n",
    "    The accuracy for our model is {accuracy:.4}\n",
    "    The True Positive Rate is {tpr:.3}, The False Positive Rate is {fpr:.3},\n",
    "    The True Negative Rate is {tnr:.3}, and the False Negative Rate is {fnr:.3}\n",
    "    ''')\n",
    "    return class_report"
   ]
  },
  {
   "cell_type": "code",
   "execution_count": 25,
   "id": "ead1aa24",
   "metadata": {},
   "outputs": [],
   "source": [
    "#x_cols are the features \n",
    "#y_col is our target\n",
    "x_col = ['fiber_optic', 'electronic_check','tenure', 'two_year', 'monthly']\n",
    "y_col = 'churn'"
   ]
  },
  {
   "cell_type": "code",
   "execution_count": 26,
   "id": "15de68cb",
   "metadata": {},
   "outputs": [],
   "source": [
    "#splitting based on our features\n",
    "X_train, y_train = train[x_col], train[y_col]\n",
    "\n",
    "X_validate, y_validate = validate[x_col], validate[y_col]\n",
    "\n",
    "X_test, y_test = test[x_col], test[y_col]"
   ]
  },
  {
   "cell_type": "code",
   "execution_count": 27,
   "id": "ead955a7",
   "metadata": {},
   "outputs": [
    {
     "data": {
      "text/plain": [
       "0    2897\n",
       "1    1046\n",
       "Name: churn, dtype: int64"
      ]
     },
     "execution_count": 27,
     "metadata": {},
     "output_type": "execute_result"
    }
   ],
   "source": [
    "y_train.value_counts()"
   ]
  },
  {
   "cell_type": "code",
   "execution_count": 28,
   "id": "bffac954",
   "metadata": {},
   "outputs": [
    {
     "data": {
      "text/plain": [
       "0.73"
      ]
     },
     "execution_count": 28,
     "metadata": {},
     "output_type": "execute_result"
    }
   ],
   "source": [
    "#Since most customers stayed, I will set my churn prediction to 0 for everyone. \n",
    "train['baseline_prediction'] = 0\n",
    "round(accuracy_score(train.churn, train.baseline_prediction),2)"
   ]
  },
  {
   "cell_type": "code",
   "execution_count": 29,
   "id": "5e9a7408",
   "metadata": {},
   "outputs": [
    {
     "name": "stdout",
     "output_type": "stream",
     "text": [
      "Our baseline score is 0.73\n"
     ]
    }
   ],
   "source": [
    "baseline_score = round(accuracy_score(train.churn, train.baseline_prediction),2)\n",
    "print(f'Our baseline score is {baseline_score}')"
   ]
  },
  {
   "cell_type": "markdown",
   "id": "103643b9",
   "metadata": {},
   "source": [
    "### Predictions end up 4 different ways:\n",
    "\n",
    "True Positive. We predicted the customer would stay & they did.\n",
    "\n",
    "True Negative. We predicted the customer would leave & they did.\n",
    "\n",
    "False Positive. We predicted the customer would stay & they didn't.\n",
    "\n",
    "False Negative. We predicted the customer would leave & they didn't."
   ]
  },
  {
   "cell_type": "markdown",
   "id": "9156fc7e",
   "metadata": {},
   "source": [
    "# Decision Tree Model "
   ]
  },
  {
   "cell_type": "code",
   "execution_count": 30,
   "id": "8f880a55",
   "metadata": {},
   "outputs": [],
   "source": [
    "#Going to create a decision tree under 'tree', I used max leaf nodes of 15, max depth of 3, and min samples of 3. \n",
    "tree = DecisionTreeClassifier(max_leaf_nodes=10, max_depth=3, criterion=\"entropy\",min_samples_leaf=3)"
   ]
  },
  {
   "cell_type": "code",
   "execution_count": 31,
   "id": "33f4c337",
   "metadata": {},
   "outputs": [
    {
     "data": {
      "text/plain": [
       "DecisionTreeClassifier(criterion='entropy', max_depth=3, max_leaf_nodes=10,\n",
       "                       min_samples_leaf=3)"
      ]
     },
     "execution_count": 31,
     "metadata": {},
     "output_type": "execute_result"
    }
   ],
   "source": [
    "#fit it to my training sample\n",
    "tree.fit(X_train,y_train)"
   ]
  },
  {
   "cell_type": "code",
   "execution_count": 32,
   "id": "7be612cb",
   "metadata": {},
   "outputs": [
    {
     "name": "stdout",
     "output_type": "stream",
     "text": [
      "training score: 79.61%\n",
      "validate score: 78.18%\n"
     ]
    }
   ],
   "source": [
    "#training and validate score, I want them to be better than the baseline and close to each other so I'm not overfitting\n",
    "print(f'training score: {tree.score(X_train, y_train):.2%}')\n",
    "print(f'validate score: {tree.score(X_validate, y_validate):.2%}')"
   ]
  },
  {
   "cell_type": "code",
   "execution_count": 33,
   "id": "5a0b494f",
   "metadata": {},
   "outputs": [
    {
     "data": {
      "text/plain": [
       "array([0, 0, 0, ..., 1, 0, 0])"
      ]
     },
     "execution_count": 33,
     "metadata": {},
     "output_type": "execute_result"
    }
   ],
   "source": [
    "# make prediction on train observations\n",
    "y_pred = tree.predict(X_train)\n",
    "y_pred"
   ]
  },
  {
   "cell_type": "code",
   "execution_count": 34,
   "id": "0a1a81c0",
   "metadata": {},
   "outputs": [
    {
     "name": "stdout",
     "output_type": "stream",
     "text": [
      "\n",
      "    The accuracy for our model is 0.7961\n",
      "    The True Positive Rate is 0.416, The False Positive Rate is 0.0666,\n",
      "    The True Negative Rate is 0.933, and the False Negative Rate is 0.584\n",
      "    \n"
     ]
    },
    {
     "data": {
      "text/html": [
       "<div>\n",
       "<style scoped>\n",
       "    .dataframe tbody tr th:only-of-type {\n",
       "        vertical-align: middle;\n",
       "    }\n",
       "\n",
       "    .dataframe tbody tr th {\n",
       "        vertical-align: top;\n",
       "    }\n",
       "\n",
       "    .dataframe thead th {\n",
       "        text-align: right;\n",
       "    }\n",
       "</style>\n",
       "<table border=\"1\" class=\"dataframe\">\n",
       "  <thead>\n",
       "    <tr style=\"text-align: right;\">\n",
       "      <th></th>\n",
       "      <th>precision</th>\n",
       "      <th>recall</th>\n",
       "      <th>f1-score</th>\n",
       "      <th>support</th>\n",
       "    </tr>\n",
       "  </thead>\n",
       "  <tbody>\n",
       "    <tr>\n",
       "      <th>0</th>\n",
       "      <td>0.815686</td>\n",
       "      <td>0.933379</td>\n",
       "      <td>0.870573</td>\n",
       "      <td>2897.000000</td>\n",
       "    </tr>\n",
       "    <tr>\n",
       "      <th>1</th>\n",
       "      <td>0.692675</td>\n",
       "      <td>0.415870</td>\n",
       "      <td>0.519713</td>\n",
       "      <td>1046.000000</td>\n",
       "    </tr>\n",
       "    <tr>\n",
       "      <th>accuracy</th>\n",
       "      <td>0.796094</td>\n",
       "      <td>0.796094</td>\n",
       "      <td>0.796094</td>\n",
       "      <td>0.796094</td>\n",
       "    </tr>\n",
       "    <tr>\n",
       "      <th>macro avg</th>\n",
       "      <td>0.754181</td>\n",
       "      <td>0.674625</td>\n",
       "      <td>0.695143</td>\n",
       "      <td>3943.000000</td>\n",
       "    </tr>\n",
       "    <tr>\n",
       "      <th>weighted avg</th>\n",
       "      <td>0.783054</td>\n",
       "      <td>0.796094</td>\n",
       "      <td>0.777497</td>\n",
       "      <td>3943.000000</td>\n",
       "    </tr>\n",
       "  </tbody>\n",
       "</table>\n",
       "</div>"
      ],
      "text/plain": [
       "              precision    recall  f1-score      support\n",
       "0              0.815686  0.933379  0.870573  2897.000000\n",
       "1              0.692675  0.415870  0.519713  1046.000000\n",
       "accuracy       0.796094  0.796094  0.796094     0.796094\n",
       "macro avg      0.754181  0.674625  0.695143  3943.000000\n",
       "weighted avg   0.783054  0.796094  0.777497  3943.000000"
      ]
     },
     "execution_count": 34,
     "metadata": {},
     "output_type": "execute_result"
    }
   ],
   "source": [
    "# function prints a classification report \n",
    "get_metrics_binary(tree)"
   ]
  },
  {
   "cell_type": "code",
   "execution_count": 35,
   "id": "20d39988",
   "metadata": {},
   "outputs": [
    {
     "data": {
      "image/png": "[encoded data removed]",
      "text/plain": [
       "<Figure size 1152x648 with 1 Axes>"
      ]
     },
     "metadata": {
      "needs_background": "light"
     },
     "output_type": "display_data"
    }
   ],
   "source": [
    "#illustration of the tree\n",
    "plt.figure(figsize=(16,9))\n",
    "plot_tree(tree)\n",
    "plt.show()"
   ]
  },
  {
   "cell_type": "code",
   "execution_count": 36,
   "id": "1eef8e58",
   "metadata": {},
   "outputs": [
    {
     "name": "stdout",
     "output_type": "stream",
     "text": [
      "              precision    recall  f1-score   support\n",
      "\n",
      "           0       0.82      0.93      0.87      2897\n",
      "           1       0.69      0.42      0.52      1046\n",
      "\n",
      "    accuracy                           0.80      3943\n",
      "   macro avg       0.75      0.67      0.70      3943\n",
      "weighted avg       0.78      0.80      0.78      3943\n",
      "\n"
     ]
    }
   ],
   "source": [
    "#making a prediction for churn, and also a classification report.\n",
    "y_pred = tree.predict(X_train)\n",
    "print(classification_report(y_train, y_pred))"
   ]
  },
  {
   "cell_type": "code",
   "execution_count": 37,
   "id": "e9ac5b7c",
   "metadata": {},
   "outputs": [
    {
     "name": "stdout",
     "output_type": "stream",
     "text": [
      "Scores for Decision Tree\n",
      "---------------------------\n",
      "Baseline score is 0.73\n",
      "accuracy score is 0.8\n",
      "precision score is 0.82\n",
      "recall score is 0.93\n"
     ]
    }
   ],
   "source": [
    "print('Scores for Decision Tree')\n",
    "print('---------------------------')\n",
    "print(f'Baseline score is {baseline_score}')\n",
    "print(f'accuracy score is {round(sklearn.metrics.accuracy_score(y_train, y_pred),2)}')\n",
    "print(f'precision score is {round(sklearn.metrics.precision_score(y_train, y_pred, pos_label =0),2)}')\n",
    "print(f'recall score is {round(sklearn.metrics.recall_score(y_train, y_pred, pos_label =0),2)}')"
   ]
  },
  {
   "cell_type": "markdown",
   "id": "aa6b4e76",
   "metadata": {},
   "source": [
    "#### Accuracy is better then our baseline by 7 percentage points\n",
    "\n",
    "#### Initially my recall score was 92%, \n",
    "\n",
    "#### After adding min_samples_leaf = 3, my recall score increased 1% to 93%. \n",
    "        \n",
    "        min_samples_leaf will help with low-variance and over fit leaf nodes\n",
    "        "
   ]
  },
  {
   "cell_type": "markdown",
   "id": "396966b5",
   "metadata": {},
   "source": [
    "# KNN"
   ]
  },
  {
   "cell_type": "code",
   "execution_count": 38,
   "id": "2973339d",
   "metadata": {},
   "outputs": [
    {
     "data": {
      "text/plain": [
       "KNeighborsClassifier(n_neighbors=3)"
      ]
     },
     "execution_count": 38,
     "metadata": {},
     "output_type": "execute_result"
    }
   ],
   "source": [
    "#setting up and fitting my KNN model.  \n",
    "knn = KNeighborsClassifier(n_neighbors = 3, )\n",
    "knn.fit(X_train, y_train)"
   ]
  },
  {
   "cell_type": "code",
   "execution_count": 39,
   "id": "77d4ee47",
   "metadata": {},
   "outputs": [
    {
     "name": "stdout",
     "output_type": "stream",
     "text": [
      "training score: 78.37%\n",
      "validate score: 77.05%\n"
     ]
    }
   ],
   "source": [
    "#let's see the training and validate scores\n",
    "print(f'training score: {knn.score(X_train, y_train):.2%}')\n",
    "print(f'validate score: {knn.score(X_validate, y_validate):.2%}')"
   ]
  },
  {
   "cell_type": "code",
   "execution_count": 40,
   "id": "fbed901e",
   "metadata": {},
   "outputs": [
    {
     "name": "stdout",
     "output_type": "stream",
     "text": [
      "              precision    recall  f1-score   support\n",
      "\n",
      "           0       0.82      0.93      0.87      2897\n",
      "           1       0.69      0.42      0.52      1046\n",
      "\n",
      "    accuracy                           0.80      3943\n",
      "   macro avg       0.75      0.67      0.70      3943\n",
      "weighted avg       0.78      0.80      0.78      3943\n",
      "\n"
     ]
    }
   ],
   "source": [
    "#classification report\n",
    "print(classification_report(y_train, y_pred))"
   ]
  },
  {
   "cell_type": "code",
   "execution_count": 41,
   "id": "03ad441a",
   "metadata": {},
   "outputs": [
    {
     "name": "stdout",
     "output_type": "stream",
     "text": [
      "\n",
      "    The accuracy for our model is 0.7837\n",
      "    The True Positive Rate is 0.416, The False Positive Rate is 0.0666,\n",
      "    The True Negative Rate is 0.933, and the False Negative Rate is 0.584\n",
      "    \n"
     ]
    },
    {
     "data": {
      "text/html": [
       "<div>\n",
       "<style scoped>\n",
       "    .dataframe tbody tr th:only-of-type {\n",
       "        vertical-align: middle;\n",
       "    }\n",
       "\n",
       "    .dataframe tbody tr th {\n",
       "        vertical-align: top;\n",
       "    }\n",
       "\n",
       "    .dataframe thead th {\n",
       "        text-align: right;\n",
       "    }\n",
       "</style>\n",
       "<table border=\"1\" class=\"dataframe\">\n",
       "  <thead>\n",
       "    <tr style=\"text-align: right;\">\n",
       "      <th></th>\n",
       "      <th>precision</th>\n",
       "      <th>recall</th>\n",
       "      <th>f1-score</th>\n",
       "      <th>support</th>\n",
       "    </tr>\n",
       "  </thead>\n",
       "  <tbody>\n",
       "    <tr>\n",
       "      <th>0</th>\n",
       "      <td>0.815686</td>\n",
       "      <td>0.933379</td>\n",
       "      <td>0.870573</td>\n",
       "      <td>2897.000000</td>\n",
       "    </tr>\n",
       "    <tr>\n",
       "      <th>1</th>\n",
       "      <td>0.692675</td>\n",
       "      <td>0.415870</td>\n",
       "      <td>0.519713</td>\n",
       "      <td>1046.000000</td>\n",
       "    </tr>\n",
       "    <tr>\n",
       "      <th>accuracy</th>\n",
       "      <td>0.796094</td>\n",
       "      <td>0.796094</td>\n",
       "      <td>0.796094</td>\n",
       "      <td>0.796094</td>\n",
       "    </tr>\n",
       "    <tr>\n",
       "      <th>macro avg</th>\n",
       "      <td>0.754181</td>\n",
       "      <td>0.674625</td>\n",
       "      <td>0.695143</td>\n",
       "      <td>3943.000000</td>\n",
       "    </tr>\n",
       "    <tr>\n",
       "      <th>weighted avg</th>\n",
       "      <td>0.783054</td>\n",
       "      <td>0.796094</td>\n",
       "      <td>0.777497</td>\n",
       "      <td>3943.000000</td>\n",
       "    </tr>\n",
       "  </tbody>\n",
       "</table>\n",
       "</div>"
      ],
      "text/plain": [
       "              precision    recall  f1-score      support\n",
       "0              0.815686  0.933379  0.870573  2897.000000\n",
       "1              0.692675  0.415870  0.519713  1046.000000\n",
       "accuracy       0.796094  0.796094  0.796094     0.796094\n",
       "macro avg      0.754181  0.674625  0.695143  3943.000000\n",
       "weighted avg   0.783054  0.796094  0.777497  3943.000000"
      ]
     },
     "execution_count": 41,
     "metadata": {},
     "output_type": "execute_result"
    }
   ],
   "source": [
    "get_metrics_binary(knn)"
   ]
  },
  {
   "cell_type": "code",
   "execution_count": 42,
   "id": "9f760af2",
   "metadata": {},
   "outputs": [
    {
     "name": "stdout",
     "output_type": "stream",
     "text": [
      "Scores for KNN\n",
      "---------------------------\n",
      "Baseline score is 0.73\n",
      "accuracy score is 0.8\n",
      "precision score is 0.82\n",
      "recall score is 0.93\n"
     ]
    }
   ],
   "source": [
    "print('Scores for KNN')\n",
    "print('---------------------------')\n",
    "print(f'Baseline score is {baseline_score}')\n",
    "print(f'accuracy score is {round(sklearn.metrics.accuracy_score(y_train, y_pred),2)}')\n",
    "print(f'precision score is {round(sklearn.metrics.precision_score(y_train, y_pred, pos_label =0),2)}')\n",
    "print(f'recall score is {round(sklearn.metrics.recall_score(y_train, y_pred, pos_label =0),2)}')"
   ]
  },
  {
   "cell_type": "markdown",
   "id": "0c496fa7",
   "metadata": {},
   "source": [
    "# Logistic Regression "
   ]
  },
  {
   "cell_type": "code",
   "execution_count": 43,
   "id": "e0a6d737",
   "metadata": {},
   "outputs": [
    {
     "name": "stdout",
     "output_type": "stream",
     "text": [
      "training score: 79.61%\n",
      "validate score: 78.89%\n"
     ]
    }
   ],
   "source": [
    "logit = LogisticRegression(C= 10, random_state =123)\n",
    "logit.fit(X_train, y_train)\n",
    "y_pred = logit.predict(X_train)\n",
    "print(f'training score: {logit.score(X_train, y_train):.2%}')\n",
    "print(f'validate score: {logit.score(X_validate, y_validate):.2%}')"
   ]
  },
  {
   "cell_type": "code",
   "execution_count": 44,
   "id": "3fcbcbb7",
   "metadata": {},
   "outputs": [
    {
     "name": "stdout",
     "output_type": "stream",
     "text": [
      "              precision    recall  f1-score   support\n",
      "\n",
      "           0       0.83      0.90      0.87      2897\n",
      "           1       0.65      0.50      0.57      1046\n",
      "\n",
      "    accuracy                           0.80      3943\n",
      "   macro avg       0.74      0.70      0.72      3943\n",
      "weighted avg       0.78      0.80      0.79      3943\n",
      "\n"
     ]
    }
   ],
   "source": [
    "#classification report.\n",
    "print(classification_report(y_train, y_pred))"
   ]
  },
  {
   "cell_type": "code",
   "execution_count": 45,
   "id": "243b03d0",
   "metadata": {},
   "outputs": [
    {
     "name": "stdout",
     "output_type": "stream",
     "text": [
      "\n",
      "    The accuracy for our model is 0.7961\n",
      "    The True Positive Rate is 0.5, The False Positive Rate is 0.097,\n",
      "    The True Negative Rate is 0.903, and the False Negative Rate is 0.5\n",
      "    \n"
     ]
    },
    {
     "data": {
      "text/html": [
       "<div>\n",
       "<style scoped>\n",
       "    .dataframe tbody tr th:only-of-type {\n",
       "        vertical-align: middle;\n",
       "    }\n",
       "\n",
       "    .dataframe tbody tr th {\n",
       "        vertical-align: top;\n",
       "    }\n",
       "\n",
       "    .dataframe thead th {\n",
       "        text-align: right;\n",
       "    }\n",
       "</style>\n",
       "<table border=\"1\" class=\"dataframe\">\n",
       "  <thead>\n",
       "    <tr style=\"text-align: right;\">\n",
       "      <th></th>\n",
       "      <th>precision</th>\n",
       "      <th>recall</th>\n",
       "      <th>f1-score</th>\n",
       "      <th>support</th>\n",
       "    </tr>\n",
       "  </thead>\n",
       "  <tbody>\n",
       "    <tr>\n",
       "      <th>0</th>\n",
       "      <td>0.833386</td>\n",
       "      <td>0.903003</td>\n",
       "      <td>0.866799</td>\n",
       "      <td>2897.000000</td>\n",
       "    </tr>\n",
       "    <tr>\n",
       "      <th>1</th>\n",
       "      <td>0.650498</td>\n",
       "      <td>0.500000</td>\n",
       "      <td>0.565405</td>\n",
       "      <td>1046.000000</td>\n",
       "    </tr>\n",
       "    <tr>\n",
       "      <th>accuracy</th>\n",
       "      <td>0.796094</td>\n",
       "      <td>0.796094</td>\n",
       "      <td>0.796094</td>\n",
       "      <td>0.796094</td>\n",
       "    </tr>\n",
       "    <tr>\n",
       "      <th>macro avg</th>\n",
       "      <td>0.741942</td>\n",
       "      <td>0.701502</td>\n",
       "      <td>0.716102</td>\n",
       "      <td>3943.000000</td>\n",
       "    </tr>\n",
       "    <tr>\n",
       "      <th>weighted avg</th>\n",
       "      <td>0.784870</td>\n",
       "      <td>0.796094</td>\n",
       "      <td>0.786845</td>\n",
       "      <td>3943.000000</td>\n",
       "    </tr>\n",
       "  </tbody>\n",
       "</table>\n",
       "</div>"
      ],
      "text/plain": [
       "              precision    recall  f1-score      support\n",
       "0              0.833386  0.903003  0.866799  2897.000000\n",
       "1              0.650498  0.500000  0.565405  1046.000000\n",
       "accuracy       0.796094  0.796094  0.796094     0.796094\n",
       "macro avg      0.741942  0.701502  0.716102  3943.000000\n",
       "weighted avg   0.784870  0.796094  0.786845  3943.000000"
      ]
     },
     "execution_count": 45,
     "metadata": {},
     "output_type": "execute_result"
    }
   ],
   "source": [
    "get_metrics_binary(logit)"
   ]
  },
  {
   "cell_type": "code",
   "execution_count": 46,
   "id": "2ebb1ed2",
   "metadata": {},
   "outputs": [
    {
     "name": "stdout",
     "output_type": "stream",
     "text": [
      "Scores for Logistic Regression!\n",
      "---------------------------\n",
      "Baseline score is 0.73\n",
      "accuracy score is 0.8\n",
      "precision score is 0.83\n",
      "recall score is 0.9\n"
     ]
    }
   ],
   "source": [
    "print('Scores for Logistic Regression!')\n",
    "print('---------------------------')\n",
    "print(f'Baseline score is {baseline_score}')\n",
    "print(f'accuracy score is {round(sklearn.metrics.accuracy_score(y_train, y_pred),2)}')\n",
    "print(f'precision score is {round(sklearn.metrics.precision_score(y_train, y_pred, pos_label =0),2)}')\n",
    "print(f'recall score is {round(sklearn.metrics.recall_score(y_train, y_pred, pos_label =0),2)}')"
   ]
  },
  {
   "cell_type": "markdown",
   "id": "db900abf",
   "metadata": {},
   "source": [
    "# Test \n",
    "\n",
    "    - Recall for decision tree stands to have the best recall percentage with 93%\n",
    "    \n",
    "    - Training and Validate are within 2% of eachother so there is no overfit issue."
   ]
  },
  {
   "cell_type": "code",
   "execution_count": 47,
   "id": "c4c63d28",
   "metadata": {},
   "outputs": [
    {
     "name": "stdout",
     "output_type": "stream",
     "text": [
      "              precision    recall  f1-score   support\n",
      "\n",
      "           0       0.81      0.94      0.87      1035\n",
      "           1       0.69      0.38      0.49       374\n",
      "\n",
      "    accuracy                           0.79      1409\n",
      "   macro avg       0.75      0.66      0.68      1409\n",
      "weighted avg       0.78      0.79      0.77      1409\n",
      "\n"
     ]
    }
   ],
   "source": [
    "#the actual results and the predicted results to make a classification report\n",
    "real_test = y_test\n",
    "predicted_test = tree.predict(X_test)\n",
    "print(classification_report(real_test, predicted_test))"
   ]
  },
  {
   "cell_type": "code",
   "execution_count": 48,
   "id": "4280ebed",
   "metadata": {},
   "outputs": [
    {
     "name": "stdout",
     "output_type": "stream",
     "text": [
      "training score: 79.61%\n",
      "validate score: 78.18%\n",
      "test score: 79.06%\n"
     ]
    }
   ],
   "source": [
    "#let's see the training, validate, and test score. All better than the baseline of 73.4%\n",
    "print(f'training score: {tree.score(X_train, y_train):.2%}')\n",
    "print(f'validate score: {tree.score(X_validate, y_validate):.2%}')\n",
    "print(f'test score: {tree.score(X_test, y_test):.2%}')"
   ]
  },
  {
   "cell_type": "markdown",
   "id": "9c294037",
   "metadata": {},
   "source": [
    "# Prediction "
   ]
  },
  {
   "cell_type": "code",
   "execution_count": 49,
   "id": "46dc1339",
   "metadata": {},
   "outputs": [
    {
     "data": {
      "text/html": [
       "<div>\n",
       "<style scoped>\n",
       "    .dataframe tbody tr th:only-of-type {\n",
       "        vertical-align: middle;\n",
       "    }\n",
       "\n",
       "    .dataframe tbody tr th {\n",
       "        vertical-align: top;\n",
       "    }\n",
       "\n",
       "    .dataframe thead th {\n",
       "        text-align: right;\n",
       "    }\n",
       "</style>\n",
       "<table border=\"1\" class=\"dataframe\">\n",
       "  <thead>\n",
       "    <tr style=\"text-align: right;\">\n",
       "      <th></th>\n",
       "      <th>customer_id</th>\n",
       "      <th>senior_citizen</th>\n",
       "      <th>partner</th>\n",
       "      <th>dependents</th>\n",
       "      <th>tenure</th>\n",
       "      <th>phone_service</th>\n",
       "      <th>multiple_lines</th>\n",
       "      <th>online_security</th>\n",
       "      <th>online_backup</th>\n",
       "      <th>device_protection</th>\n",
       "      <th>...</th>\n",
       "      <th>dsl</th>\n",
       "      <th>fiber_optic</th>\n",
       "      <th>no_internet</th>\n",
       "      <th>monthly</th>\n",
       "      <th>one_year</th>\n",
       "      <th>two_year</th>\n",
       "      <th>bank_transfer</th>\n",
       "      <th>credit_card</th>\n",
       "      <th>electronic_check</th>\n",
       "      <th>mailed_check</th>\n",
       "    </tr>\n",
       "  </thead>\n",
       "  <tbody>\n",
       "    <tr>\n",
       "      <th>3960</th>\n",
       "      <td>2592-HODOV</td>\n",
       "      <td>0</td>\n",
       "      <td>0</td>\n",
       "      <td>0</td>\n",
       "      <td>13</td>\n",
       "      <td>1</td>\n",
       "      <td>0</td>\n",
       "      <td>0</td>\n",
       "      <td>0</td>\n",
       "      <td>0</td>\n",
       "      <td>...</td>\n",
       "      <td>0</td>\n",
       "      <td>0</td>\n",
       "      <td>1</td>\n",
       "      <td>0</td>\n",
       "      <td>1</td>\n",
       "      <td>0</td>\n",
       "      <td>0</td>\n",
       "      <td>1</td>\n",
       "      <td>0</td>\n",
       "      <td>0</td>\n",
       "    </tr>\n",
       "    <tr>\n",
       "      <th>2131</th>\n",
       "      <td>7426-GSWPO</td>\n",
       "      <td>1</td>\n",
       "      <td>0</td>\n",
       "      <td>0</td>\n",
       "      <td>64</td>\n",
       "      <td>1</td>\n",
       "      <td>1</td>\n",
       "      <td>1</td>\n",
       "      <td>1</td>\n",
       "      <td>0</td>\n",
       "      <td>...</td>\n",
       "      <td>0</td>\n",
       "      <td>1</td>\n",
       "      <td>0</td>\n",
       "      <td>1</td>\n",
       "      <td>0</td>\n",
       "      <td>0</td>\n",
       "      <td>1</td>\n",
       "      <td>0</td>\n",
       "      <td>0</td>\n",
       "      <td>0</td>\n",
       "    </tr>\n",
       "    <tr>\n",
       "      <th>5313</th>\n",
       "      <td>9378-FXTIZ</td>\n",
       "      <td>0</td>\n",
       "      <td>1</td>\n",
       "      <td>0</td>\n",
       "      <td>54</td>\n",
       "      <td>1</td>\n",
       "      <td>1</td>\n",
       "      <td>0</td>\n",
       "      <td>0</td>\n",
       "      <td>0</td>\n",
       "      <td>...</td>\n",
       "      <td>1</td>\n",
       "      <td>0</td>\n",
       "      <td>0</td>\n",
       "      <td>0</td>\n",
       "      <td>1</td>\n",
       "      <td>0</td>\n",
       "      <td>0</td>\n",
       "      <td>1</td>\n",
       "      <td>0</td>\n",
       "      <td>0</td>\n",
       "    </tr>\n",
       "    <tr>\n",
       "      <th>4295</th>\n",
       "      <td>1017-FBQMM</td>\n",
       "      <td>0</td>\n",
       "      <td>1</td>\n",
       "      <td>1</td>\n",
       "      <td>62</td>\n",
       "      <td>1</td>\n",
       "      <td>1</td>\n",
       "      <td>0</td>\n",
       "      <td>1</td>\n",
       "      <td>0</td>\n",
       "      <td>...</td>\n",
       "      <td>0</td>\n",
       "      <td>1</td>\n",
       "      <td>0</td>\n",
       "      <td>0</td>\n",
       "      <td>1</td>\n",
       "      <td>0</td>\n",
       "      <td>0</td>\n",
       "      <td>1</td>\n",
       "      <td>0</td>\n",
       "      <td>0</td>\n",
       "    </tr>\n",
       "    <tr>\n",
       "      <th>772</th>\n",
       "      <td>1193-RTSLK</td>\n",
       "      <td>0</td>\n",
       "      <td>0</td>\n",
       "      <td>0</td>\n",
       "      <td>38</td>\n",
       "      <td>1</td>\n",
       "      <td>0</td>\n",
       "      <td>1</td>\n",
       "      <td>1</td>\n",
       "      <td>1</td>\n",
       "      <td>...</td>\n",
       "      <td>0</td>\n",
       "      <td>1</td>\n",
       "      <td>0</td>\n",
       "      <td>1</td>\n",
       "      <td>0</td>\n",
       "      <td>0</td>\n",
       "      <td>0</td>\n",
       "      <td>1</td>\n",
       "      <td>0</td>\n",
       "      <td>0</td>\n",
       "    </tr>\n",
       "  </tbody>\n",
       "</table>\n",
       "<p>5 rows × 28 columns</p>\n",
       "</div>"
      ],
      "text/plain": [
       "     customer_id  senior_citizen  partner  dependents  tenure  phone_service  \\\n",
       "3960  2592-HODOV               0        0           0      13              1   \n",
       "2131  7426-GSWPO               1        0           0      64              1   \n",
       "5313  9378-FXTIZ               0        1           0      54              1   \n",
       "4295  1017-FBQMM               0        1           1      62              1   \n",
       "772   1193-RTSLK               0        0           0      38              1   \n",
       "\n",
       "      multiple_lines  online_security  online_backup  device_protection  ...  \\\n",
       "3960               0                0              0                  0  ...   \n",
       "2131               1                1              1                  0  ...   \n",
       "5313               1                0              0                  0  ...   \n",
       "4295               1                0              1                  0  ...   \n",
       "772                0                1              1                  1  ...   \n",
       "\n",
       "      dsl  fiber_optic  no_internet  monthly  one_year  two_year  \\\n",
       "3960    0            0            1        0         1         0   \n",
       "2131    0            1            0        1         0         0   \n",
       "5313    1            0            0        0         1         0   \n",
       "4295    0            1            0        0         1         0   \n",
       "772     0            1            0        1         0         0   \n",
       "\n",
       "      bank_transfer  credit_card  electronic_check  mailed_check  \n",
       "3960              0            1                 0             0  \n",
       "2131              1            0                 0             0  \n",
       "5313              0            1                 0             0  \n",
       "4295              0            1                 0             0  \n",
       "772               0            1                 0             0  \n",
       "\n",
       "[5 rows x 28 columns]"
      ]
     },
     "execution_count": 49,
     "metadata": {},
     "output_type": "execute_result"
    }
   ],
   "source": [
    "test.head()"
   ]
  },
  {
   "cell_type": "code",
   "execution_count": 50,
   "id": "5d2b726f",
   "metadata": {},
   "outputs": [],
   "source": [
    "#my decision tree's probabilities\n",
    "proba_test = tree.predict_proba(X_test)"
   ]
  },
  {
   "cell_type": "code",
   "execution_count": 51,
   "id": "13bfef9a",
   "metadata": {},
   "outputs": [
    {
     "data": {
      "text/html": [
       "<div>\n",
       "<style scoped>\n",
       "    .dataframe tbody tr th:only-of-type {\n",
       "        vertical-align: middle;\n",
       "    }\n",
       "\n",
       "    .dataframe tbody tr th {\n",
       "        vertical-align: top;\n",
       "    }\n",
       "\n",
       "    .dataframe thead th {\n",
       "        text-align: right;\n",
       "    }\n",
       "</style>\n",
       "<table border=\"1\" class=\"dataframe\">\n",
       "  <thead>\n",
       "    <tr style=\"text-align: right;\">\n",
       "      <th></th>\n",
       "      <th>0</th>\n",
       "      <th>1</th>\n",
       "    </tr>\n",
       "  </thead>\n",
       "  <tbody>\n",
       "    <tr>\n",
       "      <th>0</th>\n",
       "      <td>0.928433</td>\n",
       "      <td>0.071567</td>\n",
       "    </tr>\n",
       "    <tr>\n",
       "      <th>1</th>\n",
       "      <td>0.615905</td>\n",
       "      <td>0.384095</td>\n",
       "    </tr>\n",
       "    <tr>\n",
       "      <th>2</th>\n",
       "      <td>0.928433</td>\n",
       "      <td>0.071567</td>\n",
       "    </tr>\n",
       "    <tr>\n",
       "      <th>3</th>\n",
       "      <td>0.791139</td>\n",
       "      <td>0.208861</td>\n",
       "    </tr>\n",
       "    <tr>\n",
       "      <th>4</th>\n",
       "      <td>0.615905</td>\n",
       "      <td>0.384095</td>\n",
       "    </tr>\n",
       "  </tbody>\n",
       "</table>\n",
       "</div>"
      ],
      "text/plain": [
       "          0         1\n",
       "0  0.928433  0.071567\n",
       "1  0.615905  0.384095\n",
       "2  0.928433  0.071567\n",
       "3  0.791139  0.208861\n",
       "4  0.615905  0.384095"
      ]
     },
     "execution_count": 51,
     "metadata": {},
     "output_type": "execute_result"
    }
   ],
   "source": [
    "#turning my probabilities into a dataframe \n",
    "proba_df = pd.DataFrame(proba_test, columns=tree.classes_.tolist())\n",
    "proba_df.head()"
   ]
  },
  {
   "cell_type": "code",
   "execution_count": 52,
   "id": "aa329cd1",
   "metadata": {},
   "outputs": [
    {
     "data": {
      "text/html": [
       "<div>\n",
       "<style scoped>\n",
       "    .dataframe tbody tr th:only-of-type {\n",
       "        vertical-align: middle;\n",
       "    }\n",
       "\n",
       "    .dataframe tbody tr th {\n",
       "        vertical-align: top;\n",
       "    }\n",
       "\n",
       "    .dataframe thead th {\n",
       "        text-align: right;\n",
       "    }\n",
       "</style>\n",
       "<table border=\"1\" class=\"dataframe\">\n",
       "  <thead>\n",
       "    <tr style=\"text-align: right;\">\n",
       "      <th></th>\n",
       "      <th>index</th>\n",
       "      <th>customer_id</th>\n",
       "      <th>senior_citizen</th>\n",
       "      <th>partner</th>\n",
       "      <th>dependents</th>\n",
       "      <th>tenure</th>\n",
       "      <th>phone_service</th>\n",
       "      <th>multiple_lines</th>\n",
       "      <th>online_security</th>\n",
       "      <th>online_backup</th>\n",
       "      <th>...</th>\n",
       "      <th>dsl</th>\n",
       "      <th>fiber_optic</th>\n",
       "      <th>no_internet</th>\n",
       "      <th>monthly</th>\n",
       "      <th>one_year</th>\n",
       "      <th>two_year</th>\n",
       "      <th>bank_transfer</th>\n",
       "      <th>credit_card</th>\n",
       "      <th>electronic_check</th>\n",
       "      <th>mailed_check</th>\n",
       "    </tr>\n",
       "  </thead>\n",
       "  <tbody>\n",
       "    <tr>\n",
       "      <th>0</th>\n",
       "      <td>3960</td>\n",
       "      <td>2592-HODOV</td>\n",
       "      <td>0</td>\n",
       "      <td>0</td>\n",
       "      <td>0</td>\n",
       "      <td>13</td>\n",
       "      <td>1</td>\n",
       "      <td>0</td>\n",
       "      <td>0</td>\n",
       "      <td>0</td>\n",
       "      <td>...</td>\n",
       "      <td>0</td>\n",
       "      <td>0</td>\n",
       "      <td>1</td>\n",
       "      <td>0</td>\n",
       "      <td>1</td>\n",
       "      <td>0</td>\n",
       "      <td>0</td>\n",
       "      <td>1</td>\n",
       "      <td>0</td>\n",
       "      <td>0</td>\n",
       "    </tr>\n",
       "    <tr>\n",
       "      <th>1</th>\n",
       "      <td>2131</td>\n",
       "      <td>7426-GSWPO</td>\n",
       "      <td>1</td>\n",
       "      <td>0</td>\n",
       "      <td>0</td>\n",
       "      <td>64</td>\n",
       "      <td>1</td>\n",
       "      <td>1</td>\n",
       "      <td>1</td>\n",
       "      <td>1</td>\n",
       "      <td>...</td>\n",
       "      <td>0</td>\n",
       "      <td>1</td>\n",
       "      <td>0</td>\n",
       "      <td>1</td>\n",
       "      <td>0</td>\n",
       "      <td>0</td>\n",
       "      <td>1</td>\n",
       "      <td>0</td>\n",
       "      <td>0</td>\n",
       "      <td>0</td>\n",
       "    </tr>\n",
       "    <tr>\n",
       "      <th>2</th>\n",
       "      <td>5313</td>\n",
       "      <td>9378-FXTIZ</td>\n",
       "      <td>0</td>\n",
       "      <td>1</td>\n",
       "      <td>0</td>\n",
       "      <td>54</td>\n",
       "      <td>1</td>\n",
       "      <td>1</td>\n",
       "      <td>0</td>\n",
       "      <td>0</td>\n",
       "      <td>...</td>\n",
       "      <td>1</td>\n",
       "      <td>0</td>\n",
       "      <td>0</td>\n",
       "      <td>0</td>\n",
       "      <td>1</td>\n",
       "      <td>0</td>\n",
       "      <td>0</td>\n",
       "      <td>1</td>\n",
       "      <td>0</td>\n",
       "      <td>0</td>\n",
       "    </tr>\n",
       "    <tr>\n",
       "      <th>3</th>\n",
       "      <td>4295</td>\n",
       "      <td>1017-FBQMM</td>\n",
       "      <td>0</td>\n",
       "      <td>1</td>\n",
       "      <td>1</td>\n",
       "      <td>62</td>\n",
       "      <td>1</td>\n",
       "      <td>1</td>\n",
       "      <td>0</td>\n",
       "      <td>1</td>\n",
       "      <td>...</td>\n",
       "      <td>0</td>\n",
       "      <td>1</td>\n",
       "      <td>0</td>\n",
       "      <td>0</td>\n",
       "      <td>1</td>\n",
       "      <td>0</td>\n",
       "      <td>0</td>\n",
       "      <td>1</td>\n",
       "      <td>0</td>\n",
       "      <td>0</td>\n",
       "    </tr>\n",
       "    <tr>\n",
       "      <th>4</th>\n",
       "      <td>772</td>\n",
       "      <td>1193-RTSLK</td>\n",
       "      <td>0</td>\n",
       "      <td>0</td>\n",
       "      <td>0</td>\n",
       "      <td>38</td>\n",
       "      <td>1</td>\n",
       "      <td>0</td>\n",
       "      <td>1</td>\n",
       "      <td>1</td>\n",
       "      <td>...</td>\n",
       "      <td>0</td>\n",
       "      <td>1</td>\n",
       "      <td>0</td>\n",
       "      <td>1</td>\n",
       "      <td>0</td>\n",
       "      <td>0</td>\n",
       "      <td>0</td>\n",
       "      <td>1</td>\n",
       "      <td>0</td>\n",
       "      <td>0</td>\n",
       "    </tr>\n",
       "  </tbody>\n",
       "</table>\n",
       "<p>5 rows × 29 columns</p>\n",
       "</div>"
      ],
      "text/plain": [
       "   index customer_id  senior_citizen  partner  dependents  tenure  \\\n",
       "0   3960  2592-HODOV               0        0           0      13   \n",
       "1   2131  7426-GSWPO               1        0           0      64   \n",
       "2   5313  9378-FXTIZ               0        1           0      54   \n",
       "3   4295  1017-FBQMM               0        1           1      62   \n",
       "4    772  1193-RTSLK               0        0           0      38   \n",
       "\n",
       "   phone_service  multiple_lines  online_security  online_backup  ...  dsl  \\\n",
       "0              1               0                0              0  ...    0   \n",
       "1              1               1                1              1  ...    0   \n",
       "2              1               1                0              0  ...    1   \n",
       "3              1               1                0              1  ...    0   \n",
       "4              1               0                1              1  ...    0   \n",
       "\n",
       "   fiber_optic  no_internet  monthly  one_year  two_year  bank_transfer  \\\n",
       "0            0            1        0         1         0              0   \n",
       "1            1            0        1         0         0              1   \n",
       "2            0            0        0         1         0              0   \n",
       "3            1            0        0         1         0              0   \n",
       "4            1            0        1         0         0              0   \n",
       "\n",
       "   credit_card  electronic_check  mailed_check  \n",
       "0            1                 0             0  \n",
       "1            0                 0             0  \n",
       "2            1                 0             0  \n",
       "3            1                 0             0  \n",
       "4            1                 0             0  \n",
       "\n",
       "[5 rows x 29 columns]"
      ]
     },
     "execution_count": 52,
     "metadata": {},
     "output_type": "execute_result"
    }
   ],
   "source": [
    "#reset the index\n",
    "reset_test = test.reset_index()\n",
    "reset_test.head()"
   ]
  },
  {
   "cell_type": "code",
   "execution_count": 53,
   "id": "8202fe7c",
   "metadata": {},
   "outputs": [
    {
     "data": {
      "text/html": [
       "<div>\n",
       "<style scoped>\n",
       "    .dataframe tbody tr th:only-of-type {\n",
       "        vertical-align: middle;\n",
       "    }\n",
       "\n",
       "    .dataframe tbody tr th {\n",
       "        vertical-align: top;\n",
       "    }\n",
       "\n",
       "    .dataframe thead th {\n",
       "        text-align: right;\n",
       "    }\n",
       "</style>\n",
       "<table border=\"1\" class=\"dataframe\">\n",
       "  <thead>\n",
       "    <tr style=\"text-align: right;\">\n",
       "      <th></th>\n",
       "      <th>index</th>\n",
       "      <th>customer_id</th>\n",
       "      <th>senior_citizen</th>\n",
       "      <th>partner</th>\n",
       "      <th>dependents</th>\n",
       "      <th>tenure</th>\n",
       "      <th>phone_service</th>\n",
       "      <th>multiple_lines</th>\n",
       "      <th>online_security</th>\n",
       "      <th>online_backup</th>\n",
       "      <th>...</th>\n",
       "      <th>no_internet</th>\n",
       "      <th>monthly</th>\n",
       "      <th>one_year</th>\n",
       "      <th>two_year</th>\n",
       "      <th>bank_transfer</th>\n",
       "      <th>credit_card</th>\n",
       "      <th>electronic_check</th>\n",
       "      <th>mailed_check</th>\n",
       "      <th>0</th>\n",
       "      <th>1</th>\n",
       "    </tr>\n",
       "  </thead>\n",
       "  <tbody>\n",
       "    <tr>\n",
       "      <th>0</th>\n",
       "      <td>3960</td>\n",
       "      <td>2592-HODOV</td>\n",
       "      <td>0</td>\n",
       "      <td>0</td>\n",
       "      <td>0</td>\n",
       "      <td>13</td>\n",
       "      <td>1</td>\n",
       "      <td>0</td>\n",
       "      <td>0</td>\n",
       "      <td>0</td>\n",
       "      <td>...</td>\n",
       "      <td>1</td>\n",
       "      <td>0</td>\n",
       "      <td>1</td>\n",
       "      <td>0</td>\n",
       "      <td>0</td>\n",
       "      <td>1</td>\n",
       "      <td>0</td>\n",
       "      <td>0</td>\n",
       "      <td>0.928433</td>\n",
       "      <td>0.071567</td>\n",
       "    </tr>\n",
       "    <tr>\n",
       "      <th>1</th>\n",
       "      <td>2131</td>\n",
       "      <td>7426-GSWPO</td>\n",
       "      <td>1</td>\n",
       "      <td>0</td>\n",
       "      <td>0</td>\n",
       "      <td>64</td>\n",
       "      <td>1</td>\n",
       "      <td>1</td>\n",
       "      <td>1</td>\n",
       "      <td>1</td>\n",
       "      <td>...</td>\n",
       "      <td>0</td>\n",
       "      <td>1</td>\n",
       "      <td>0</td>\n",
       "      <td>0</td>\n",
       "      <td>1</td>\n",
       "      <td>0</td>\n",
       "      <td>0</td>\n",
       "      <td>0</td>\n",
       "      <td>0.615905</td>\n",
       "      <td>0.384095</td>\n",
       "    </tr>\n",
       "    <tr>\n",
       "      <th>2</th>\n",
       "      <td>5313</td>\n",
       "      <td>9378-FXTIZ</td>\n",
       "      <td>0</td>\n",
       "      <td>1</td>\n",
       "      <td>0</td>\n",
       "      <td>54</td>\n",
       "      <td>1</td>\n",
       "      <td>1</td>\n",
       "      <td>0</td>\n",
       "      <td>0</td>\n",
       "      <td>...</td>\n",
       "      <td>0</td>\n",
       "      <td>0</td>\n",
       "      <td>1</td>\n",
       "      <td>0</td>\n",
       "      <td>0</td>\n",
       "      <td>1</td>\n",
       "      <td>0</td>\n",
       "      <td>0</td>\n",
       "      <td>0.928433</td>\n",
       "      <td>0.071567</td>\n",
       "    </tr>\n",
       "    <tr>\n",
       "      <th>3</th>\n",
       "      <td>4295</td>\n",
       "      <td>1017-FBQMM</td>\n",
       "      <td>0</td>\n",
       "      <td>1</td>\n",
       "      <td>1</td>\n",
       "      <td>62</td>\n",
       "      <td>1</td>\n",
       "      <td>1</td>\n",
       "      <td>0</td>\n",
       "      <td>1</td>\n",
       "      <td>...</td>\n",
       "      <td>0</td>\n",
       "      <td>0</td>\n",
       "      <td>1</td>\n",
       "      <td>0</td>\n",
       "      <td>0</td>\n",
       "      <td>1</td>\n",
       "      <td>0</td>\n",
       "      <td>0</td>\n",
       "      <td>0.791139</td>\n",
       "      <td>0.208861</td>\n",
       "    </tr>\n",
       "    <tr>\n",
       "      <th>4</th>\n",
       "      <td>772</td>\n",
       "      <td>1193-RTSLK</td>\n",
       "      <td>0</td>\n",
       "      <td>0</td>\n",
       "      <td>0</td>\n",
       "      <td>38</td>\n",
       "      <td>1</td>\n",
       "      <td>0</td>\n",
       "      <td>1</td>\n",
       "      <td>1</td>\n",
       "      <td>...</td>\n",
       "      <td>0</td>\n",
       "      <td>1</td>\n",
       "      <td>0</td>\n",
       "      <td>0</td>\n",
       "      <td>0</td>\n",
       "      <td>1</td>\n",
       "      <td>0</td>\n",
       "      <td>0</td>\n",
       "      <td>0.615905</td>\n",
       "      <td>0.384095</td>\n",
       "    </tr>\n",
       "  </tbody>\n",
       "</table>\n",
       "<p>5 rows × 31 columns</p>\n",
       "</div>"
      ],
      "text/plain": [
       "   index customer_id  senior_citizen  partner  dependents  tenure  \\\n",
       "0   3960  2592-HODOV               0        0           0      13   \n",
       "1   2131  7426-GSWPO               1        0           0      64   \n",
       "2   5313  9378-FXTIZ               0        1           0      54   \n",
       "3   4295  1017-FBQMM               0        1           1      62   \n",
       "4    772  1193-RTSLK               0        0           0      38   \n",
       "\n",
       "   phone_service  multiple_lines  online_security  online_backup  ...  \\\n",
       "0              1               0                0              0  ...   \n",
       "1              1               1                1              1  ...   \n",
       "2              1               1                0              0  ...   \n",
       "3              1               1                0              1  ...   \n",
       "4              1               0                1              1  ...   \n",
       "\n",
       "   no_internet  monthly  one_year  two_year  bank_transfer  credit_card  \\\n",
       "0            1        0         1         0              0            1   \n",
       "1            0        1         0         0              1            0   \n",
       "2            0        0         1         0              0            1   \n",
       "3            0        0         1         0              0            1   \n",
       "4            0        1         0         0              0            1   \n",
       "\n",
       "   electronic_check  mailed_check         0         1  \n",
       "0                 0             0  0.928433  0.071567  \n",
       "1                 0             0  0.615905  0.384095  \n",
       "2                 0             0  0.928433  0.071567  \n",
       "3                 0             0  0.791139  0.208861  \n",
       "4                 0             0  0.615905  0.384095  \n",
       "\n",
       "[5 rows x 31 columns]"
      ]
     },
     "execution_count": 53,
     "metadata": {},
     "output_type": "execute_result"
    }
   ],
   "source": [
    "#concatenate \n",
    "test_proba_df = pd.concat([reset_test, proba_df], axis=1)\n",
    "test_proba_df.head()"
   ]
  },
  {
   "cell_type": "code",
   "execution_count": 54,
   "id": "44694a59",
   "metadata": {},
   "outputs": [
    {
     "data": {
      "text/html": [
       "<div>\n",
       "<style scoped>\n",
       "    .dataframe tbody tr th:only-of-type {\n",
       "        vertical-align: middle;\n",
       "    }\n",
       "\n",
       "    .dataframe tbody tr th {\n",
       "        vertical-align: top;\n",
       "    }\n",
       "\n",
       "    .dataframe thead th {\n",
       "        text-align: right;\n",
       "    }\n",
       "</style>\n",
       "<table border=\"1\" class=\"dataframe\">\n",
       "  <thead>\n",
       "    <tr style=\"text-align: right;\">\n",
       "      <th></th>\n",
       "      <th>index</th>\n",
       "      <th>customer_id</th>\n",
       "      <th>senior_citizen</th>\n",
       "      <th>partner</th>\n",
       "      <th>dependents</th>\n",
       "      <th>tenure</th>\n",
       "      <th>phone_service</th>\n",
       "      <th>multiple_lines</th>\n",
       "      <th>online_security</th>\n",
       "      <th>online_backup</th>\n",
       "      <th>...</th>\n",
       "      <th>monthly</th>\n",
       "      <th>one_year</th>\n",
       "      <th>two_year</th>\n",
       "      <th>bank_transfer</th>\n",
       "      <th>credit_card</th>\n",
       "      <th>electronic_check</th>\n",
       "      <th>mailed_check</th>\n",
       "      <th>0</th>\n",
       "      <th>1</th>\n",
       "      <th>predicted</th>\n",
       "    </tr>\n",
       "  </thead>\n",
       "  <tbody>\n",
       "    <tr>\n",
       "      <th>0</th>\n",
       "      <td>3960</td>\n",
       "      <td>2592-HODOV</td>\n",
       "      <td>0</td>\n",
       "      <td>0</td>\n",
       "      <td>0</td>\n",
       "      <td>13</td>\n",
       "      <td>1</td>\n",
       "      <td>0</td>\n",
       "      <td>0</td>\n",
       "      <td>0</td>\n",
       "      <td>...</td>\n",
       "      <td>0</td>\n",
       "      <td>1</td>\n",
       "      <td>0</td>\n",
       "      <td>0</td>\n",
       "      <td>1</td>\n",
       "      <td>0</td>\n",
       "      <td>0</td>\n",
       "      <td>0.928433</td>\n",
       "      <td>0.071567</td>\n",
       "      <td>0</td>\n",
       "    </tr>\n",
       "    <tr>\n",
       "      <th>1</th>\n",
       "      <td>2131</td>\n",
       "      <td>7426-GSWPO</td>\n",
       "      <td>1</td>\n",
       "      <td>0</td>\n",
       "      <td>0</td>\n",
       "      <td>64</td>\n",
       "      <td>1</td>\n",
       "      <td>1</td>\n",
       "      <td>1</td>\n",
       "      <td>1</td>\n",
       "      <td>...</td>\n",
       "      <td>1</td>\n",
       "      <td>0</td>\n",
       "      <td>0</td>\n",
       "      <td>1</td>\n",
       "      <td>0</td>\n",
       "      <td>0</td>\n",
       "      <td>0</td>\n",
       "      <td>0.615905</td>\n",
       "      <td>0.384095</td>\n",
       "      <td>0</td>\n",
       "    </tr>\n",
       "    <tr>\n",
       "      <th>2</th>\n",
       "      <td>5313</td>\n",
       "      <td>9378-FXTIZ</td>\n",
       "      <td>0</td>\n",
       "      <td>1</td>\n",
       "      <td>0</td>\n",
       "      <td>54</td>\n",
       "      <td>1</td>\n",
       "      <td>1</td>\n",
       "      <td>0</td>\n",
       "      <td>0</td>\n",
       "      <td>...</td>\n",
       "      <td>0</td>\n",
       "      <td>1</td>\n",
       "      <td>0</td>\n",
       "      <td>0</td>\n",
       "      <td>1</td>\n",
       "      <td>0</td>\n",
       "      <td>0</td>\n",
       "      <td>0.928433</td>\n",
       "      <td>0.071567</td>\n",
       "      <td>0</td>\n",
       "    </tr>\n",
       "    <tr>\n",
       "      <th>3</th>\n",
       "      <td>4295</td>\n",
       "      <td>1017-FBQMM</td>\n",
       "      <td>0</td>\n",
       "      <td>1</td>\n",
       "      <td>1</td>\n",
       "      <td>62</td>\n",
       "      <td>1</td>\n",
       "      <td>1</td>\n",
       "      <td>0</td>\n",
       "      <td>1</td>\n",
       "      <td>...</td>\n",
       "      <td>0</td>\n",
       "      <td>1</td>\n",
       "      <td>0</td>\n",
       "      <td>0</td>\n",
       "      <td>1</td>\n",
       "      <td>0</td>\n",
       "      <td>0</td>\n",
       "      <td>0.791139</td>\n",
       "      <td>0.208861</td>\n",
       "      <td>0</td>\n",
       "    </tr>\n",
       "    <tr>\n",
       "      <th>4</th>\n",
       "      <td>772</td>\n",
       "      <td>1193-RTSLK</td>\n",
       "      <td>0</td>\n",
       "      <td>0</td>\n",
       "      <td>0</td>\n",
       "      <td>38</td>\n",
       "      <td>1</td>\n",
       "      <td>0</td>\n",
       "      <td>1</td>\n",
       "      <td>1</td>\n",
       "      <td>...</td>\n",
       "      <td>1</td>\n",
       "      <td>0</td>\n",
       "      <td>0</td>\n",
       "      <td>0</td>\n",
       "      <td>1</td>\n",
       "      <td>0</td>\n",
       "      <td>0</td>\n",
       "      <td>0.615905</td>\n",
       "      <td>0.384095</td>\n",
       "      <td>0</td>\n",
       "    </tr>\n",
       "  </tbody>\n",
       "</table>\n",
       "<p>5 rows × 32 columns</p>\n",
       "</div>"
      ],
      "text/plain": [
       "   index customer_id  senior_citizen  partner  dependents  tenure  \\\n",
       "0   3960  2592-HODOV               0        0           0      13   \n",
       "1   2131  7426-GSWPO               1        0           0      64   \n",
       "2   5313  9378-FXTIZ               0        1           0      54   \n",
       "3   4295  1017-FBQMM               0        1           1      62   \n",
       "4    772  1193-RTSLK               0        0           0      38   \n",
       "\n",
       "   phone_service  multiple_lines  online_security  online_backup  ...  \\\n",
       "0              1               0                0              0  ...   \n",
       "1              1               1                1              1  ...   \n",
       "2              1               1                0              0  ...   \n",
       "3              1               1                0              1  ...   \n",
       "4              1               0                1              1  ...   \n",
       "\n",
       "   monthly  one_year  two_year  bank_transfer  credit_card  electronic_check  \\\n",
       "0        0         1         0              0            1                 0   \n",
       "1        1         0         0              1            0                 0   \n",
       "2        0         1         0              0            1                 0   \n",
       "3        0         1         0              0            1                 0   \n",
       "4        1         0         0              0            1                 0   \n",
       "\n",
       "   mailed_check         0         1  predicted  \n",
       "0             0  0.928433  0.071567          0  \n",
       "1             0  0.615905  0.384095          0  \n",
       "2             0  0.928433  0.071567          0  \n",
       "3             0  0.791139  0.208861          0  \n",
       "4             0  0.615905  0.384095          0  \n",
       "\n",
       "[5 rows x 32 columns]"
      ]
     },
     "execution_count": 54,
     "metadata": {},
     "output_type": "execute_result"
    }
   ],
   "source": [
    "#adding my predicted result column\n",
    "test_proba_df['predicted'] = predicted_test\n",
    "test_proba_df.head()"
   ]
  },
  {
   "cell_type": "code",
   "execution_count": 55,
   "id": "8351b9d8",
   "metadata": {},
   "outputs": [
    {
     "data": {
      "text/html": [
       "<div>\n",
       "<style scoped>\n",
       "    .dataframe tbody tr th:only-of-type {\n",
       "        vertical-align: middle;\n",
       "    }\n",
       "\n",
       "    .dataframe tbody tr th {\n",
       "        vertical-align: top;\n",
       "    }\n",
       "\n",
       "    .dataframe thead th {\n",
       "        text-align: right;\n",
       "    }\n",
       "</style>\n",
       "<table border=\"1\" class=\"dataframe\">\n",
       "  <thead>\n",
       "    <tr style=\"text-align: right;\">\n",
       "      <th></th>\n",
       "      <th>customer_id</th>\n",
       "      <th>0</th>\n",
       "      <th>1</th>\n",
       "      <th>predicted</th>\n",
       "    </tr>\n",
       "  </thead>\n",
       "  <tbody>\n",
       "    <tr>\n",
       "      <th>1404</th>\n",
       "      <td>1731-TVIUK</td>\n",
       "      <td>0.307325</td>\n",
       "      <td>0.692675</td>\n",
       "      <td>1</td>\n",
       "    </tr>\n",
       "    <tr>\n",
       "      <th>1405</th>\n",
       "      <td>4628-WQCQQ</td>\n",
       "      <td>0.791139</td>\n",
       "      <td>0.208861</td>\n",
       "      <td>0</td>\n",
       "    </tr>\n",
       "    <tr>\n",
       "      <th>1406</th>\n",
       "      <td>5887-IKKYO</td>\n",
       "      <td>0.943089</td>\n",
       "      <td>0.056911</td>\n",
       "      <td>0</td>\n",
       "    </tr>\n",
       "    <tr>\n",
       "      <th>1407</th>\n",
       "      <td>4931-TRZWN</td>\n",
       "      <td>0.825119</td>\n",
       "      <td>0.174881</td>\n",
       "      <td>0</td>\n",
       "    </tr>\n",
       "    <tr>\n",
       "      <th>1408</th>\n",
       "      <td>1396-QWFBJ</td>\n",
       "      <td>0.615905</td>\n",
       "      <td>0.384095</td>\n",
       "      <td>0</td>\n",
       "    </tr>\n",
       "  </tbody>\n",
       "</table>\n",
       "</div>"
      ],
      "text/plain": [
       "     customer_id         0         1  predicted\n",
       "1404  1731-TVIUK  0.307325  0.692675          1\n",
       "1405  4628-WQCQQ  0.791139  0.208861          0\n",
       "1406  5887-IKKYO  0.943089  0.056911          0\n",
       "1407  4931-TRZWN  0.825119  0.174881          0\n",
       "1408  1396-QWFBJ  0.615905  0.384095          0"
      ]
     },
     "execution_count": 55,
     "metadata": {},
     "output_type": "execute_result"
    }
   ],
   "source": [
    "#only keeping the relevant columns\n",
    "telco_prediction = test_proba_df[['customer_id', 0,1, 'predicted']]\n",
    "telco_prediction.tail()"
   ]
  },
  {
   "cell_type": "code",
   "execution_count": 56,
   "id": "e17bbbcb",
   "metadata": {},
   "outputs": [],
   "source": [
    "#to a csv it goes\n",
    "telco_prediction.to_csv('telco_predictions.csv')"
   ]
  },
  {
   "cell_type": "code",
   "execution_count": null,
   "id": "3e713492",
   "metadata": {},
   "outputs": [],
   "source": []
  }
 ],
 "metadata": {
  "kernelspec": {
   "display_name": "Python 3",
   "language": "python",
   "name": "python3"
  },
  "language_info": {
   "codemirror_mode": {
    "name": "ipython",
    "version": 3
   },
   "file_extension": ".py",
   "mimetype": "text/x-python",
   "name": "python",
   "nbconvert_exporter": "python",
   "pygments_lexer": "ipython3",
   "version": "3.8.8"
  },
  "toc": {
   "base_numbering": 1,
   "nav_menu": {},
   "number_sections": true,
   "sideBar": true,
   "skip_h1_title": false,
   "title_cell": "Table of Contents",
   "title_sidebar": "Contents",
   "toc_cell": false,
   "toc_position": {},
   "toc_section_display": true,
   "toc_window_display": false
  },
  "widgets": {
   "application/vnd.jupyter.widget-state+json": {
    "state": {},
    "version_major": 2,
    "version_minor": 0
   }
  }
 },
 "nbformat": 4,
 "nbformat_minor": 5
}
