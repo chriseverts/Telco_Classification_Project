{
 "cells": [
  {
   "cell_type": "code",
   "execution_count": 51,
   "id": "79bc341a",
   "metadata": {},
   "outputs": [],
   "source": [
    "import pandas as pd \n",
    "import numpy as np\n",
    "import seaborn as sns\n",
    "from acquire import get_connection, new_telco_churn_data, get_telco_churn_data\n",
    "from env import username, host, password\n",
    "\n",
    "import os\n",
    "import matplotlib.pyplot as plt\n",
    "from sklearn.model_selection import train_test_split\n",
    "\n",
    "from acquire import get_connection, new_telco_churn_data, get_telco_churn_data\n",
    "from prepare import num_distributions, clean_telco_churn, telco_churn_split, prep_telco_churn\n",
    "from explore import get_metrics_binary\n",
    "from sklearn.model_selection import train_test_split\n",
    "from sklearn.tree import DecisionTreeClassifier, plot_tree, export_text\n",
    "from sklearn.tree import export_graphviz\n",
    "from sklearn.metrics import classification_report\n",
    "from sklearn.metrics import confusion_matrix\n",
    "from sklearn.metrics import accuracy_score\n",
    "import sklearn.metrics\n",
    "\n",
    "from math import sqrt\n",
    "from scipy import stats"
   ]
  },
  {
   "cell_type": "markdown",
   "id": "c3afff86",
   "metadata": {},
   "source": [
    "-bring in clean data, drop columns we're not using, then split and stratify by churn."
   ]
  },
  {
   "cell_type": "code",
   "execution_count": 31,
   "id": "a60ac067",
   "metadata": {},
   "outputs": [],
   "source": [
    "df = get_telco_churn_data()\n"
   ]
  },
  {
   "cell_type": "code",
   "execution_count": 32,
   "id": "74760d53",
   "metadata": {},
   "outputs": [],
   "source": [
    "df = clean_telco_churn(df)"
   ]
  },
  {
   "cell_type": "code",
   "execution_count": 33,
   "id": "3c1d7ee0",
   "metadata": {},
   "outputs": [],
   "source": [
    "train, validate, test = prep_telco_churn(df)"
   ]
  },
  {
   "cell_type": "code",
   "execution_count": null,
   "id": "fe254c61",
   "metadata": {},
   "outputs": [],
   "source": []
  },
  {
   "cell_type": "code",
   "execution_count": 57,
   "id": "2b3ced3e",
   "metadata": {},
   "outputs": [],
   "source": [
    "x_col = ['fiber_optic', 'electronic_check', 'monthly_charges', 'tenure', 'one_year', 'monthly']\n",
    "y_col = 'churn'"
   ]
  },
  {
   "cell_type": "code",
   "execution_count": 58,
   "id": "949f6945",
   "metadata": {},
   "outputs": [
    {
     "data": {
      "text/plain": [
       "((3943, 29), (1691, 28), (1409, 28))"
      ]
     },
     "execution_count": 58,
     "metadata": {},
     "output_type": "execute_result"
    }
   ],
   "source": [
    "train.shape, validate.shape, test.shape"
   ]
  },
  {
   "cell_type": "code",
   "execution_count": 59,
   "id": "a775a296",
   "metadata": {},
   "outputs": [
    {
     "data": {
      "text/html": [
       "<div>\n",
       "<style scoped>\n",
       "    .dataframe tbody tr th:only-of-type {\n",
       "        vertical-align: middle;\n",
       "    }\n",
       "\n",
       "    .dataframe tbody tr th {\n",
       "        vertical-align: top;\n",
       "    }\n",
       "\n",
       "    .dataframe thead th {\n",
       "        text-align: right;\n",
       "    }\n",
       "</style>\n",
       "<table border=\"1\" class=\"dataframe\">\n",
       "  <thead>\n",
       "    <tr style=\"text-align: right;\">\n",
       "      <th></th>\n",
       "      <th>customer_id</th>\n",
       "      <th>senior_citizen</th>\n",
       "      <th>partner</th>\n",
       "      <th>dependents</th>\n",
       "      <th>tenure</th>\n",
       "      <th>phone_service</th>\n",
       "      <th>multiple_lines</th>\n",
       "      <th>online_security</th>\n",
       "      <th>online_backup</th>\n",
       "      <th>device_protection</th>\n",
       "      <th>...</th>\n",
       "      <th>fiber_optic</th>\n",
       "      <th>no_internet</th>\n",
       "      <th>monthly</th>\n",
       "      <th>one_year</th>\n",
       "      <th>two_year</th>\n",
       "      <th>bank_transfer</th>\n",
       "      <th>credit_card</th>\n",
       "      <th>electronic_check</th>\n",
       "      <th>mailed_check</th>\n",
       "      <th>baseline_prediction</th>\n",
       "    </tr>\n",
       "  </thead>\n",
       "  <tbody>\n",
       "    <tr>\n",
       "      <th>5707</th>\n",
       "      <td>5605-XNWEN</td>\n",
       "      <td>1</td>\n",
       "      <td>1</td>\n",
       "      <td>0</td>\n",
       "      <td>72</td>\n",
       "      <td>1</td>\n",
       "      <td>1</td>\n",
       "      <td>0</td>\n",
       "      <td>0</td>\n",
       "      <td>0</td>\n",
       "      <td>...</td>\n",
       "      <td>0</td>\n",
       "      <td>1</td>\n",
       "      <td>0</td>\n",
       "      <td>0</td>\n",
       "      <td>1</td>\n",
       "      <td>1</td>\n",
       "      <td>0</td>\n",
       "      <td>0</td>\n",
       "      <td>0</td>\n",
       "      <td>1</td>\n",
       "    </tr>\n",
       "    <tr>\n",
       "      <th>4471</th>\n",
       "      <td>4355-CVPVS</td>\n",
       "      <td>0</td>\n",
       "      <td>1</td>\n",
       "      <td>1</td>\n",
       "      <td>56</td>\n",
       "      <td>1</td>\n",
       "      <td>0</td>\n",
       "      <td>0</td>\n",
       "      <td>0</td>\n",
       "      <td>0</td>\n",
       "      <td>...</td>\n",
       "      <td>1</td>\n",
       "      <td>0</td>\n",
       "      <td>0</td>\n",
       "      <td>1</td>\n",
       "      <td>0</td>\n",
       "      <td>1</td>\n",
       "      <td>0</td>\n",
       "      <td>0</td>\n",
       "      <td>0</td>\n",
       "      <td>1</td>\n",
       "    </tr>\n",
       "    <tr>\n",
       "      <th>4994</th>\n",
       "      <td>3915-ODIYG</td>\n",
       "      <td>1</td>\n",
       "      <td>0</td>\n",
       "      <td>0</td>\n",
       "      <td>60</td>\n",
       "      <td>1</td>\n",
       "      <td>1</td>\n",
       "      <td>1</td>\n",
       "      <td>1</td>\n",
       "      <td>0</td>\n",
       "      <td>...</td>\n",
       "      <td>0</td>\n",
       "      <td>0</td>\n",
       "      <td>0</td>\n",
       "      <td>1</td>\n",
       "      <td>0</td>\n",
       "      <td>0</td>\n",
       "      <td>0</td>\n",
       "      <td>1</td>\n",
       "      <td>0</td>\n",
       "      <td>1</td>\n",
       "    </tr>\n",
       "    <tr>\n",
       "      <th>3458</th>\n",
       "      <td>6575-SUVOI</td>\n",
       "      <td>1</td>\n",
       "      <td>1</td>\n",
       "      <td>0</td>\n",
       "      <td>25</td>\n",
       "      <td>1</td>\n",
       "      <td>1</td>\n",
       "      <td>1</td>\n",
       "      <td>0</td>\n",
       "      <td>0</td>\n",
       "      <td>...</td>\n",
       "      <td>0</td>\n",
       "      <td>0</td>\n",
       "      <td>1</td>\n",
       "      <td>0</td>\n",
       "      <td>0</td>\n",
       "      <td>0</td>\n",
       "      <td>1</td>\n",
       "      <td>0</td>\n",
       "      <td>0</td>\n",
       "      <td>1</td>\n",
       "    </tr>\n",
       "    <tr>\n",
       "      <th>3818</th>\n",
       "      <td>9504-DSHWM</td>\n",
       "      <td>0</td>\n",
       "      <td>0</td>\n",
       "      <td>0</td>\n",
       "      <td>20</td>\n",
       "      <td>1</td>\n",
       "      <td>1</td>\n",
       "      <td>1</td>\n",
       "      <td>0</td>\n",
       "      <td>0</td>\n",
       "      <td>...</td>\n",
       "      <td>0</td>\n",
       "      <td>0</td>\n",
       "      <td>1</td>\n",
       "      <td>0</td>\n",
       "      <td>0</td>\n",
       "      <td>1</td>\n",
       "      <td>0</td>\n",
       "      <td>0</td>\n",
       "      <td>0</td>\n",
       "      <td>1</td>\n",
       "    </tr>\n",
       "  </tbody>\n",
       "</table>\n",
       "<p>5 rows × 29 columns</p>\n",
       "</div>"
      ],
      "text/plain": [
       "     customer_id  senior_citizen  partner  dependents  tenure  phone_service  \\\n",
       "5707  5605-XNWEN               1        1           0      72              1   \n",
       "4471  4355-CVPVS               0        1           1      56              1   \n",
       "4994  3915-ODIYG               1        0           0      60              1   \n",
       "3458  6575-SUVOI               1        1           0      25              1   \n",
       "3818  9504-DSHWM               0        0           0      20              1   \n",
       "\n",
       "      multiple_lines  online_security  online_backup  device_protection  ...  \\\n",
       "5707               1                0              0                  0  ...   \n",
       "4471               0                0              0                  0  ...   \n",
       "4994               1                1              1                  0  ...   \n",
       "3458               1                1              0                  0  ...   \n",
       "3818               1                1              0                  0  ...   \n",
       "\n",
       "      fiber_optic  no_internet  monthly  one_year  two_year  bank_transfer  \\\n",
       "5707            0            1        0         0         1              1   \n",
       "4471            1            0        0         1         0              1   \n",
       "4994            0            0        0         1         0              0   \n",
       "3458            0            0        1         0         0              0   \n",
       "3818            0            0        1         0         0              1   \n",
       "\n",
       "      credit_card  electronic_check  mailed_check  baseline_prediction  \n",
       "5707            0                 0             0                    1  \n",
       "4471            0                 0             0                    1  \n",
       "4994            0                 1             0                    1  \n",
       "3458            1                 0             0                    1  \n",
       "3818            0                 0             0                    1  \n",
       "\n",
       "[5 rows x 29 columns]"
      ]
     },
     "execution_count": 59,
     "metadata": {},
     "output_type": "execute_result"
    }
   ],
   "source": [
    "train.head()"
   ]
  },
  {
   "cell_type": "code",
   "execution_count": 60,
   "id": "4ff10c41",
   "metadata": {},
   "outputs": [],
   "source": [
    "X_train, y_train = train[x_col], train[y_col]\n",
    "\n",
    "X_validate, y_validate = validate[x_col], validate[y_col]\n",
    "\n",
    "X_test, y_test = test[x_col], test[y_col]"
   ]
  },
  {
   "cell_type": "code",
   "execution_count": 61,
   "id": "c0f5f46c",
   "metadata": {},
   "outputs": [
    {
     "data": {
      "text/html": [
       "<div>\n",
       "<style scoped>\n",
       "    .dataframe tbody tr th:only-of-type {\n",
       "        vertical-align: middle;\n",
       "    }\n",
       "\n",
       "    .dataframe tbody tr th {\n",
       "        vertical-align: top;\n",
       "    }\n",
       "\n",
       "    .dataframe thead th {\n",
       "        text-align: right;\n",
       "    }\n",
       "</style>\n",
       "<table border=\"1\" class=\"dataframe\">\n",
       "  <thead>\n",
       "    <tr style=\"text-align: right;\">\n",
       "      <th></th>\n",
       "      <th>fiber_optic</th>\n",
       "      <th>electronic_check</th>\n",
       "      <th>monthly_charges</th>\n",
       "      <th>tenure</th>\n",
       "      <th>one_year</th>\n",
       "      <th>monthly</th>\n",
       "    </tr>\n",
       "  </thead>\n",
       "  <tbody>\n",
       "    <tr>\n",
       "      <th>5707</th>\n",
       "      <td>0</td>\n",
       "      <td>0</td>\n",
       "      <td>25.00</td>\n",
       "      <td>72</td>\n",
       "      <td>0</td>\n",
       "      <td>0</td>\n",
       "    </tr>\n",
       "    <tr>\n",
       "      <th>4471</th>\n",
       "      <td>1</td>\n",
       "      <td>0</td>\n",
       "      <td>88.90</td>\n",
       "      <td>56</td>\n",
       "      <td>1</td>\n",
       "      <td>0</td>\n",
       "    </tr>\n",
       "    <tr>\n",
       "      <th>4994</th>\n",
       "      <td>0</td>\n",
       "      <td>1</td>\n",
       "      <td>71.75</td>\n",
       "      <td>60</td>\n",
       "      <td>1</td>\n",
       "      <td>0</td>\n",
       "    </tr>\n",
       "    <tr>\n",
       "      <th>3458</th>\n",
       "      <td>0</td>\n",
       "      <td>0</td>\n",
       "      <td>69.50</td>\n",
       "      <td>25</td>\n",
       "      <td>0</td>\n",
       "      <td>1</td>\n",
       "    </tr>\n",
       "    <tr>\n",
       "      <th>3818</th>\n",
       "      <td>0</td>\n",
       "      <td>0</td>\n",
       "      <td>59.20</td>\n",
       "      <td>20</td>\n",
       "      <td>0</td>\n",
       "      <td>1</td>\n",
       "    </tr>\n",
       "  </tbody>\n",
       "</table>\n",
       "</div>"
      ],
      "text/plain": [
       "      fiber_optic  electronic_check  monthly_charges  tenure  one_year  \\\n",
       "5707            0                 0            25.00      72         0   \n",
       "4471            1                 0            88.90      56         1   \n",
       "4994            0                 1            71.75      60         1   \n",
       "3458            0                 0            69.50      25         0   \n",
       "3818            0                 0            59.20      20         0   \n",
       "\n",
       "      monthly  \n",
       "5707        0  \n",
       "4471        0  \n",
       "4994        0  \n",
       "3458        1  \n",
       "3818        1  "
      ]
     },
     "execution_count": 61,
     "metadata": {},
     "output_type": "execute_result"
    }
   ],
   "source": [
    "X_train.head()"
   ]
  },
  {
   "cell_type": "code",
   "execution_count": 62,
   "id": "05091fa2",
   "metadata": {},
   "outputs": [
    {
     "data": {
      "text/plain": [
       "0    2897\n",
       "1    1046\n",
       "Name: churn, dtype: int64"
      ]
     },
     "execution_count": 62,
     "metadata": {},
     "output_type": "execute_result"
    }
   ],
   "source": [
    "y_train.value_counts()"
   ]
  },
  {
   "cell_type": "code",
   "execution_count": 63,
   "id": "995703f5",
   "metadata": {},
   "outputs": [
    {
     "data": {
      "text/plain": [
       "0.27"
      ]
     },
     "execution_count": 63,
     "metadata": {},
     "output_type": "execute_result"
    }
   ],
   "source": [
    "train['baseline_prediction'] = 1 #because I'm predicting more people did churn\n",
    "round(accuracy_score(train.churn, train.baseline_prediction),2)"
   ]
  },
  {
   "cell_type": "code",
   "execution_count": 82,
   "id": "90da3949",
   "metadata": {},
   "outputs": [],
   "source": [
    "# Create the object\n",
    "treeA = DecisionTreeClassifier(max_leaf_nodes=15, max_depth=2, random_state=123)"
   ]
  },
  {
   "cell_type": "code",
   "execution_count": 83,
   "id": "cf1aa9ac",
   "metadata": {},
   "outputs": [],
   "source": [
    "# Fit the model\n",
    "treeA = treeA.fit(X_train, y_train)"
   ]
  },
  {
   "cell_type": "code",
   "execution_count": 84,
   "id": "81e5dd5e",
   "metadata": {},
   "outputs": [
    {
     "name": "stdout",
     "output_type": "stream",
     "text": [
      "training score: 76.13%\n",
      "validate score: 75.28%\n"
     ]
    }
   ],
   "source": [
    "print(f'training score: {treeA.score(X_train, y_train):.2%}')\n",
    "print(f'validate score: {treeA.score(X_validate, y_validate):.2%}')"
   ]
  },
  {
   "cell_type": "code",
   "execution_count": 85,
   "id": "35dd6e0a",
   "metadata": {},
   "outputs": [
    {
     "data": {
      "image/png": "[encoded data removed]",
      "text/plain": [
       "<Figure size 1152x648 with 1 Axes>"
      ]
     },
     "metadata": {
      "needs_background": "light"
     },
     "output_type": "display_data"
    }
   ],
   "source": [
    "plt.figure(figsize=(16,9))\n",
    "plot_tree(treeA)\n",
    "plt.show()"
   ]
  },
  {
   "cell_type": "code",
   "execution_count": null,
   "id": "91bd0a42",
   "metadata": {},
   "outputs": [],
   "source": []
  }
 ],
 "metadata": {
  "kernelspec": {
   "display_name": "Python 3",
   "language": "python",
   "name": "python3"
  },
  "language_info": {
   "codemirror_mode": {
    "name": "ipython",
    "version": 3
   },
   "file_extension": ".py",
   "mimetype": "text/x-python",
   "name": "python",
   "nbconvert_exporter": "python",
   "pygments_lexer": "ipython3",
   "version": "3.8.8"
  }
 },
 "nbformat": 4,
 "nbformat_minor": 5
}
